{
 "cells": [
  {
   "cell_type": "markdown",
   "id": "1be96ab1",
   "metadata": {},
   "source": [
    "# Problem Set 7 — Coding Part\n",
    "\n",
    "**This problem set is part of the course \"Data Compression With Deep Probabilistic Models\" by Prof. Robert Bamler at University of Tuebingen, Germany. You can find more course materials (lecture notes, video recordings, and solutions) at the course website, https://robamler.github.io/teaching/compress21/**\n",
    "\n",
    "**Problem Set Published:** 9 June 2021<br>\n",
    "**Discussion:** 14 June 2021\n",
    "\n",
    "Please see accompanying PDF document for instructions."
   ]
  },
  {
   "cell_type": "markdown",
   "id": "089fa1f5",
   "metadata": {},
   "source": [
    "## Naive ANS Coder from the lecture\n",
    "\n",
    "Below is a copy of the implementation of the ANS coder that we implemented in the lecture.\n",
    "While it is a logically correct entropy coder, it is not yet quite useful because, as discussed at the end of the lecture, its runtime scales quadratically in the number of encoded symbols."
   ]
  },
  {
   "cell_type": "code",
   "execution_count": 1,
   "id": "f374947b",
   "metadata": {},
   "outputs": [],
   "source": [
    "class AnsCoder:\n",
    "    def __init__(self, precision):\n",
    "        self.precision = precision\n",
    "        self.mask = (1 << precision) - 1\n",
    "        self.compressed = 1\n",
    "\n",
    "    def encode(self, symbol, scaled_probabilities):\n",
    "        z = self.compressed % scaled_probabilities[symbol]\n",
    "        self.compressed //= scaled_probabilities[symbol]\n",
    "        for prob in scaled_probabilities[:symbol]:\n",
    "            z += prob\n",
    "        self.compressed = (self.compressed << self.precision) | z\n",
    "\n",
    "    def decode(self, scaled_probabilities):\n",
    "        z = self.compressed & self.mask\n",
    "        self.compressed >>= self.precision\n",
    "\n",
    "        for i, prob in enumerate(scaled_probabilities):\n",
    "            if prob > z:\n",
    "                symbol = i\n",
    "                break\n",
    "            else:\n",
    "                z -= prob\n",
    "\n",
    "        self.compressed = self.compressed * scaled_probabilities[symbol] + z\n",
    "        return symbol"
   ]
  },
  {
   "cell_type": "markdown",
   "id": "2f6ee3c9",
   "metadata": {},
   "source": [
    "### Our tests from the lecture"
   ]
  },
  {
   "cell_type": "code",
   "execution_count": 2,
   "id": "4d236585",
   "metadata": {},
   "outputs": [
    {
     "name": "stdout",
     "output_type": "stream",
     "text": [
      "11100\n",
      "4\n",
      "0\n",
      "1\n"
     ]
    }
   ],
   "source": [
    "# n = 2**precision\n",
    "precision = 4 # ==> n = 16\n",
    "coder = AnsCoder(precision)\n",
    "\n",
    "scaled_probabilities1 = [3, 7, 2, 4]\n",
    "scaled_probabilities2 = [8, 2, 2, 4]\n",
    "scaled_probabilities3 = [1, 5, 3, 3, 4]\n",
    "\n",
    "coder.encode(1, scaled_probabilities1)\n",
    "coder.encode(0, scaled_probabilities2)\n",
    "coder.encode(4, scaled_probabilities3)\n",
    "\n",
    "print(f'{coder.compressed:b}')\n",
    "\n",
    "print(coder.decode(scaled_probabilities3))\n",
    "print(coder.decode(scaled_probabilities2))\n",
    "print(coder.decode(scaled_probabilities1))\n",
    "# Should print encoded symbols in reverse order."
   ]
  },
  {
   "cell_type": "markdown",
   "id": "10e09ba0",
   "metadata": {},
   "source": [
    "## Problem 7.1\n",
    "\n",
    "Below is a skeleton implementation of a `StreamingAnsCoder` class.\n",
    "Follow the instructions in the accompanying PDF document to fill in the missing parts."
   ]
  },
  {
   "cell_type": "code",
   "execution_count": 3,
   "id": "6786554d",
   "metadata": {},
   "outputs": [],
   "source": [
    "class StreamingAnsCoder:\n",
    "    def __init__(self, precision):\n",
    "        # YOUR TASK (Problem 7.1 (e)): add an (optional) parameter `compressed` that\n",
    "        # accepts an initial compressed representation from which we can then decode.\n",
    "        self.precision = precision\n",
    "        self.mask = (1 << precision) - 1\n",
    "        self.bulk = []\n",
    "        self.head = 1 # We could technically initialize this with zero too.\n",
    "\n",
    "    def encode(self, symbol, scaled_probabilities):\n",
    "        # YOUR TASK (Problem 7.1 (c)): uphold invariants for `self.head`\n",
    "        z = self.head % scaled_probabilities[symbol]\n",
    "        self.head //= scaled_probabilities[symbol]\n",
    "        for prob in scaled_probabilities[:symbol]:\n",
    "            z += prob\n",
    "        self.head = (self.head << self.precision) | z\n",
    "\n",
    "    def decode(self, scaled_probabilities):\n",
    "        # YOUR TASK (Problem 7.1 (d)): uphold invariants for `self.head` and make sure\n",
    "        # `self.decode` exactly inverts `self.encode`\n",
    "        z = self.head & self.mask\n",
    "        self.head >>= self.precision\n",
    "\n",
    "        for i, prob in enumerate(scaled_probabilities):\n",
    "            if prob > z:\n",
    "                symbol = i\n",
    "                break\n",
    "            else:\n",
    "                z -= prob\n",
    "\n",
    "        self.head = self.head * scaled_probabilities[symbol] + z        \n",
    "        return symbol\n",
    "    \n",
    "    def get_compressed(self):\n",
    "        # YOUR TASK (Problem 7.1 (e)): return the compressed representation as a list\n",
    "        # of integers with `self.precision` bits each.\n",
    "        pass"
   ]
  },
  {
   "cell_type": "markdown",
   "id": "5eed6331",
   "metadata": {},
   "source": [
    "### Test for Problems 7.1 (c) and (d)\n",
    "\n",
    "Use this test (and possibly some additional tests of your own) to debug your implementations of the `encode` and `decode` methods."
   ]
  },
  {
   "cell_type": "code",
   "execution_count": 4,
   "id": "8b86a6df",
   "metadata": {},
   "outputs": [],
   "source": [
    "import numpy as np"
   ]
  },
  {
   "cell_type": "code",
   "execution_count": 5,
   "id": "bff09ebe",
   "metadata": {},
   "outputs": [],
   "source": [
    "def random_model_and_symbol(seed, precision):\n",
    "    \"\"\"Creates a reproducible pseudorandom model and draws a reproducible pseudorandom symbol from it.\"\"\"\n",
    "    rng = np.random.RandomState(seed)\n",
    "    alphabet_size = 2 + rng.choice(10)\n",
    "\n",
    "    # Ensure that all scaled_probabilities are nonzero and that they add up to `(1 << precision)`\n",
    "    assert alphabet_size <= (1 << precision)\n",
    "    scaled_probabilities = ((1 << precision) * rng.dirichlet([1] * alphabet_size)).astype(np.int64) + 1\n",
    "    for _ in range(scaled_probabilities.sum() - (1 << precision)):\n",
    "        scaled_probabilities[scaled_probabilities.argmax()] -= 1\n",
    "\n",
    "    # Draw a random symbol and calculate its information content\n",
    "    symbol = rng.choice(alphabet_size, p=(1/(1 << precision)) * scaled_probabilities)\n",
    "    inf_content = precision - np.log2(scaled_probabilities[symbol])\n",
    "    return scaled_probabilities, symbol, inf_content"
   ]
  },
  {
   "cell_type": "code",
   "execution_count": 6,
   "id": "2ce9f903",
   "metadata": {},
   "outputs": [
    {
     "name": "stdout",
     "output_type": "stream",
     "text": [
      "Encoded 1000 random symbols with a total information content of 2001.55 bits into 2016 bits.\n",
      "- absolute overhead: 14.45 bits\n",
      "- relative overhead: 0.72% (expect about 1%)\n",
      "Successfully reconstructed original message.\n"
     ]
    }
   ],
   "source": [
    "precision = 12\n",
    "num_symbols = 1000\n",
    "master_seed = 123\n",
    "\n",
    "coder = StreamingAnsCoder(precision)\n",
    "total_inf_content = 0\n",
    "for i in range(num_symbols):\n",
    "    scaled_probabilities, symbol, inf_content = random_model_and_symbol(\n",
    "        master_seed * num_symbols + i, precision)\n",
    "    coder.encode(symbol, scaled_probabilities)\n",
    "    total_inf_content += inf_content\n",
    "\n",
    "bitrate = (len(coder.bulk) + 2) * precision\n",
    "print(f'Encoded {num_symbols} random symbols with a total information content of ' +\n",
    "      f'{total_inf_content:.2f} bits into {bitrate} bits.')\n",
    "print(f'- absolute overhead: {bitrate - total_inf_content:.2f} bits')\n",
    "print(f'- relative overhead: {100 * (bitrate - total_inf_content) / total_inf_content:.2g}% (expect about 1%)')\n",
    "\n",
    "for i in reversed(range(num_symbols)):\n",
    "    scaled_probabilities, expected_symbol, _ = random_model_and_symbol(\n",
    "        master_seed * num_symbols + i, precision)\n",
    "    symbol = coder.decode(scaled_probabilities)\n",
    "    assert symbol == expected_symbol\n",
    "\n",
    "print('Successfully reconstructed original message.')"
   ]
  },
  {
   "cell_type": "markdown",
   "id": "e3b9181f",
   "metadata": {},
   "source": [
    "### Test for Problem 7.1 (e)\n",
    "\n",
    "Use this test (and possibly some additional tests of your own) to debug your implementations of the `get_compressed` method and the constructor."
   ]
  },
  {
   "cell_type": "code",
   "execution_count": 7,
   "id": "f1b17be3",
   "metadata": {},
   "outputs": [
    {
     "name": "stdout",
     "output_type": "stream",
     "text": [
      "Encoded 1000 random symbols with a total information content of 2101.30 bits into 2124 bits.\n",
      "- absolute overhead: 22.70 bits\n",
      "- relative overhead: 1.1% (expect about 1%)\n",
      "Successfully reconstructed original message.\n"
     ]
    }
   ],
   "source": [
    "precision = 12\n",
    "num_symbols = 1000\n",
    "master_seed = 456\n",
    "\n",
    "encoder = StreamingAnsCoder(precision)\n",
    "total_inf_content = 0\n",
    "for i in range(num_symbols):\n",
    "    scaled_probabilities, symbol, inf_content = random_model_and_symbol(\n",
    "        master_seed * num_symbols + i, precision)\n",
    "    encoder.encode(symbol, scaled_probabilities)\n",
    "    total_inf_content += inf_content\n",
    "\n",
    "compressed = encoder.get_compressed()\n",
    "bitrate = (len(encoder.bulk) + 2) * precision\n",
    "print(f'Encoded {num_symbols} random symbols with a total information content of ' +\n",
    "      f'{total_inf_content:.2f} bits into {bitrate} bits.')\n",
    "print(f'- absolute overhead: {bitrate - total_inf_content:.2f} bits')\n",
    "print(f'- relative overhead: {100 * (bitrate - total_inf_content) / total_inf_content:.2g}% (expect about 1%)')\n",
    "\n",
    "decoder = StreamingAnsCoder(precision, compressed)\n",
    "for i in reversed(range(num_symbols)):\n",
    "    scaled_probabilities, expected_symbol, _ = random_model_and_symbol(\n",
    "        master_seed * num_symbols + i, precision)\n",
    "    symbol = decoder.decode(scaled_probabilities)\n",
    "    assert symbol == expected_symbol\n",
    "\n",
    "print('Successfully reconstructed original message.')"
   ]
  }
 ],
 "metadata": {
  "kernelspec": {
   "display_name": "Python 3",
   "language": "python",
   "name": "python3"
  },
  "language_info": {
   "codemirror_mode": {
    "name": "ipython",
    "version": 3
   },
   "file_extension": ".py",
   "mimetype": "text/x-python",
   "name": "python",
   "nbconvert_exporter": "python",
   "pygments_lexer": "ipython3",
   "version": "3.8.2"
  }
 },
 "nbformat": 4,
 "nbformat_minor": 5
}
