{
 "cells": [
  {
   "cell_type": "markdown",
   "id": "1be96ab1",
   "metadata": {},
   "source": [
    "# Solutions to Problem Set 7 -- Coding Part\n",
    "\n",
    "**This problem set is part of the course \"Data Compression With Deep Probabilistic Models\" by Prof. Robert Bamler at University of Tuebingen, Germany. You can find more course materials (lecture notes, video recordings, and solutions) at the course website, https://robamler.github.io/teaching/compress21/**\n",
    "\n",
    "**Problem Set Published:** 9 June 2021<br>\n",
    "**Problem Set Discussed:** 14 June 2021\n",
    "\n",
    "Please see accompanying PDF document for instructions."
   ]
  },
  {
   "cell_type": "markdown",
   "id": "1865e017",
   "metadata": {},
   "source": [
    "## Naive ANS Coder from the lecture\n",
    "\n",
    "Below is a copy of the implementation of the ANS coder that we implemented in the lecture.\n",
    "While it is a logically correct entropy coder, it is not yet quite useful because, as discussed at the end of the lecture, its runtime scales quadratically in the number of encoded symbols."
   ]
  },
  {
   "cell_type": "code",
   "execution_count": 1,
   "id": "f374947b",
   "metadata": {},
   "outputs": [],
   "source": [
    "class AnsCoder:\n",
    "    def __init__(self, precision):\n",
    "        self.precision = precision\n",
    "        self.mask = (1 << precision) - 1\n",
    "        self.compressed = 1\n",
    "\n",
    "    def encode(self, symbol, scaled_probabilities):\n",
    "        z = self.compressed % scaled_probabilities[symbol]\n",
    "        self.compressed //= scaled_probabilities[symbol]\n",
    "        for prob in scaled_probabilities[:symbol]:\n",
    "            z += prob\n",
    "        self.compressed = (self.compressed << self.precision) | z\n",
    "\n",
    "    def decode(self, scaled_probabilities):\n",
    "        z = self.compressed & self.mask\n",
    "        self.compressed >>= self.precision\n",
    "\n",
    "        for i, prob in enumerate(scaled_probabilities):\n",
    "            if prob > z:\n",
    "                symbol = i\n",
    "                break\n",
    "            else:\n",
    "                z -= prob\n",
    "\n",
    "        self.compressed = self.compressed * scaled_probabilities[symbol] + z\n",
    "        return symbol"
   ]
  },
  {
   "cell_type": "markdown",
   "id": "f089a776",
   "metadata": {},
   "source": [
    "### Our tests from the lecture"
   ]
  },
  {
   "cell_type": "code",
   "execution_count": 2,
   "id": "4d236585",
   "metadata": {},
   "outputs": [
    {
     "name": "stdout",
     "output_type": "stream",
     "text": [
      "11100\n",
      "4\n",
      "0\n",
      "1\n"
     ]
    }
   ],
   "source": [
    "# n = 2**precision\n",
    "precision = 4 # ==> n = 16\n",
    "coder = AnsCoder(precision)\n",
    "\n",
    "scaled_probabilities1 = [3, 7, 2, 4]\n",
    "scaled_probabilities2 = [8, 2, 2, 4]\n",
    "scaled_probabilities3 = [1, 5, 3, 3, 4]\n",
    "\n",
    "coder.encode(1, scaled_probabilities1)\n",
    "coder.encode(0, scaled_probabilities2)\n",
    "coder.encode(4, scaled_probabilities3)\n",
    "\n",
    "print(f'{coder.compressed:b}')\n",
    "\n",
    "print(coder.decode(scaled_probabilities3))\n",
    "print(coder.decode(scaled_probabilities2))\n",
    "print(coder.decode(scaled_probabilities1))\n",
    "# Should print encoded symbols in reverse order."
   ]
  },
  {
   "cell_type": "markdown",
   "id": "185b1f68",
   "metadata": {},
   "source": [
    "## Problem 7.1\n",
    "\n",
    "Below is a skeleton implementation of a `StreamingAnsCoder` class.\n",
    "Follow the instructions in the accompanying PDF document to fill in the missing parts."
   ]
  },
  {
   "cell_type": "code",
   "execution_count": 3,
   "id": "6786554d",
   "metadata": {},
   "outputs": [],
   "source": [
    "class StreamingAnsCoder:\n",
    "    def __init__(self, precision, compressed=None):\n",
    "        # YOUR TASK (Problem 7.1 (e)): add an (optional) parameter `compressed` that\n",
    "        # accepts an initial compressed representation from which we can then decode.\n",
    "        self.precision = precision\n",
    "        self.mask = (1 << precision) - 1\n",
    "        \n",
    "        if compressed is None:\n",
    "            self.bulk = []\n",
    "            self.head = 1 # We could technically initialize this with zero too.\n",
    "        else:\n",
    "            self.bulk = compressed.copy()\n",
    "            self.head = 0\n",
    "            if len(self.bulk) != 0:\n",
    "                self.head = self.bulk.pop()\n",
    "            if len(self.bulk) != 0:\n",
    "                self.head = (self.head << precision) | self.bulk.pop()\n",
    "\n",
    "    def encode(self, symbol, scaled_probabilities):\n",
    "        # SOLUTION (Problem 7.1 (c)): uphold invariants for `self.head`\n",
    "        if (self.head >> self.precision) >= scaled_probabilities[symbol]:\n",
    "            self.bulk.append(self.head & self.mask)\n",
    "            self.head >>= self.precision\n",
    "\n",
    "        z = self.head % scaled_probabilities[symbol]\n",
    "        self.head //= scaled_probabilities[symbol]\n",
    "        for prob in scaled_probabilities[:symbol]:\n",
    "            z += prob\n",
    "        self.head = (self.head << self.precision) | z\n",
    "\n",
    "    def decode(self, scaled_probabilities):\n",
    "        # SOLUTION (Problem 7.1 (d)): uphold invariants for `self.head` and make sure\n",
    "        # `self.decode` exactly inverts `self.encode`\n",
    "        z = self.head & self.mask\n",
    "        self.head >>= self.precision\n",
    "\n",
    "        for i, prob in enumerate(scaled_probabilities):\n",
    "            if prob > z:\n",
    "                symbol = i\n",
    "                break\n",
    "            else:\n",
    "                z -= prob\n",
    "\n",
    "        self.head = self.head * scaled_probabilities[symbol] + z\n",
    "        \n",
    "        if (self.head >> self.precision) == 0 and len(self.bulk) != 0:\n",
    "            self.head = (self.head << self.precision) | self.bulk.pop()\n",
    "        \n",
    "        return symbol\n",
    "    \n",
    "    def get_compressed(self):\n",
    "        # SOLUTION (Problem 7.1 (e)): return the compressed representation as a list\n",
    "        # of integers with `self.precision` bits each.\n",
    "        compressed = self.bulk.copy()\n",
    "        head = self.head\n",
    "        while head != 0:\n",
    "            compressed.append(head & self.mask)\n",
    "            head >>= self.precision\n",
    "        return compressed"
   ]
  },
  {
   "cell_type": "markdown",
   "id": "8935836c",
   "metadata": {},
   "source": [
    "### Test for Problems 7.1 (c) and (d)\n",
    "\n",
    "Use this test (and possibly some additional tests of your own) to debug your implementations of the `encode` and `decode` methods."
   ]
  },
  {
   "cell_type": "code",
   "execution_count": 4,
   "id": "252614e2",
   "metadata": {},
   "outputs": [],
   "source": [
    "import numpy as np"
   ]
  },
  {
   "cell_type": "code",
   "execution_count": 5,
   "id": "cd846531",
   "metadata": {},
   "outputs": [],
   "source": [
    "def random_model_and_symbol(seed, precision, min_alphabet_size=2, max_alphabet_size=11):\n",
    "    \"\"\"Creates a reproducible pseudorandom model and draws a reproducible pseudorandom symbol from it.\"\"\"\n",
    "    rng = np.random.RandomState(seed)\n",
    "    alphabet_size = rng.choice(range(min_alphabet_size, max_alphabet_size + 1))\n",
    "\n",
    "    # Ensure that all scaled_probabilities are nonzero and that they add up to `(1 << precision)`\n",
    "    assert alphabet_size <= (1 << precision)\n",
    "    scaled_probabilities = ((1 << precision) * rng.dirichlet([1] * alphabet_size)).astype(np.int64) + 1\n",
    "    for _ in range(scaled_probabilities.sum() - (1 << precision)):\n",
    "        scaled_probabilities[scaled_probabilities.argmax()] -= 1\n",
    "\n",
    "    # Draw a random symbol and calculate its information content\n",
    "    symbol = rng.choice(alphabet_size, p=(1/(1 << precision)) * scaled_probabilities)\n",
    "    inf_content = precision - np.log2(scaled_probabilities[symbol])\n",
    "    return scaled_probabilities, symbol, inf_content"
   ]
  },
  {
   "cell_type": "code",
   "execution_count": 6,
   "id": "f89e0001",
   "metadata": {},
   "outputs": [
    {
     "name": "stdout",
     "output_type": "stream",
     "text": [
      "Encoded 1000 random symbols with a total information content of 2001.55 bits into 2016 bits.\n",
      "- absolute overhead: 14.45 bits\n",
      "- relative overhead: 0.72% (expect about 1%)\n",
      "Successfully reconstructed original message.\n"
     ]
    }
   ],
   "source": [
    "precision = 12\n",
    "num_symbols = 1000\n",
    "master_seed = 123\n",
    "\n",
    "coder = StreamingAnsCoder(precision)\n",
    "total_inf_content = 0\n",
    "for i in range(num_symbols):\n",
    "    scaled_probabilities, symbol, inf_content = random_model_and_symbol(\n",
    "        master_seed * num_symbols + i, precision)\n",
    "    coder.encode(symbol, scaled_probabilities)\n",
    "    total_inf_content += inf_content\n",
    "\n",
    "bitrate = (len(coder.bulk) + 2) * precision\n",
    "print(f'Encoded {num_symbols} random symbols with a total information content of ' +\n",
    "      f'{total_inf_content:.2f} bits into {bitrate} bits.')\n",
    "print(f'- absolute overhead: {bitrate - total_inf_content:.2f} bits')\n",
    "print(f'- relative overhead: {100 * (bitrate - total_inf_content) / total_inf_content:.2g}% (expect about 1%)')\n",
    "\n",
    "for i in reversed(range(num_symbols)):\n",
    "    scaled_probabilities, expected_symbol, _ = random_model_and_symbol(\n",
    "        master_seed * num_symbols + i, precision)\n",
    "    symbol = coder.decode(scaled_probabilities)\n",
    "    assert symbol == expected_symbol\n",
    "\n",
    "print('Successfully reconstructed original message.')"
   ]
  },
  {
   "cell_type": "markdown",
   "id": "04c6a56d",
   "metadata": {},
   "source": [
    "### Test for Problem 7.1 (e)\n",
    "\n",
    "Use this test (and possibly some additional tests of your own) to debug your implementations of the `get_compressed` method and the constructor."
   ]
  },
  {
   "cell_type": "code",
   "execution_count": 7,
   "id": "967cfa6b",
   "metadata": {},
   "outputs": [
    {
     "name": "stdout",
     "output_type": "stream",
     "text": [
      "Encoded 1000 random symbols with a total information content of 2101.30 bits into 2124 bits.\n",
      "- absolute overhead: 22.70 bits\n",
      "- relative overhead: 1.1% (expect about 1%)\n",
      "Successfully reconstructed original message.\n"
     ]
    }
   ],
   "source": [
    "precision = 12\n",
    "num_symbols = 1000\n",
    "master_seed = 456\n",
    "\n",
    "encoder = StreamingAnsCoder(precision)\n",
    "total_inf_content = 0\n",
    "for i in range(num_symbols):\n",
    "    scaled_probabilities, symbol, inf_content = random_model_and_symbol(\n",
    "        master_seed * num_symbols + i, precision)\n",
    "    encoder.encode(symbol, scaled_probabilities)\n",
    "    total_inf_content += inf_content\n",
    "\n",
    "compressed = encoder.get_compressed()\n",
    "bitrate = (len(encoder.bulk) + 2) * precision\n",
    "print(f'Encoded {num_symbols} random symbols with a total information content of ' +\n",
    "      f'{total_inf_content:.2f} bits into {bitrate} bits.')\n",
    "print(f'- absolute overhead: {bitrate - total_inf_content:.2f} bits')\n",
    "print(f'- relative overhead: {100 * (bitrate - total_inf_content) / total_inf_content:.2g}% (expect about 1%)')\n",
    "\n",
    "decoder = StreamingAnsCoder(precision, compressed)\n",
    "for i in reversed(range(num_symbols)):\n",
    "    scaled_probabilities, expected_symbol, _ = random_model_and_symbol(\n",
    "        master_seed * num_symbols + i, precision)\n",
    "    symbol = decoder.decode(scaled_probabilities)\n",
    "    assert symbol == expected_symbol\n",
    "\n",
    "print('Successfully reconstructed original message.')"
   ]
  },
  {
   "cell_type": "markdown",
   "id": "94a4a4a2",
   "metadata": {},
   "source": [
    "## Comparison to Symbol Codes\n",
    "\n",
    "The following additional tests compare the compression performance of our ANS implementation to Shannon and Huffman Coding, using the Huffman Coder we implemented on Problem Set 2."
   ]
  },
  {
   "cell_type": "code",
   "execution_count": 8,
   "id": "86f03fcb",
   "metadata": {},
   "outputs": [],
   "source": [
    "import heapq"
   ]
  },
  {
   "cell_type": "code",
   "execution_count": 9,
   "id": "6a534fb2",
   "metadata": {},
   "outputs": [],
   "source": [
    "# Copied from solutions to Problem Set 2\n",
    "\n",
    "class HuffmanEncoder:\n",
    "    \"\"\"A code book for encoding with a Huffman code\"\"\"\n",
    "    \n",
    "    def __init__(self, probabilities):\n",
    "        \"\"\"Create an optimal prefix code using the Huffman algorithm.\n",
    "        \n",
    "        The alphabet is assumed to be of the form\n",
    "        {0, 1, 2, ..., probabilities.len() - 1}.\n",
    "\n",
    "        Args:\n",
    "            probabilities (list or numpy array): The probabilities of each symbol\n",
    "                in the alphabet. The first entry is the probability of symbol `0`,\n",
    "                the second entry is the probability of symbol `1`, and so on.\n",
    "                Must be nonnegative and sum to 1 (up to rounding errors) for the\n",
    "                Huffman algorithm to be correct.\n",
    "        \"\"\"\n",
    "        \n",
    "        parent_nodes = [None] * len(probabilities)\n",
    "        \n",
    "        roots = []\n",
    "        # DONE: turn `roots` into a binary heap of pairs `(probability, symbol)`,\n",
    "        # representing the set `R` from Algorithm 2 on the problem set.\n",
    "        # (You may want to refer back to the code examples for Problem 1.3 from\n",
    "        # last week's problem set.)\n",
    "        for symbol, p in enumerate(probabilities):\n",
    "            heapq.heappush(roots, (p, symbol))\n",
    "        \n",
    "        while len(roots) > 1:\n",
    "            # DONE: implement the rest of the algorithm, as described on the problem set:\n",
    "            # - update the `roots` heap by popping of two items and pushing back one;\n",
    "            # - you may find it easiest to initially append `None` elements to\n",
    "            #   `parent_nodes` and to mutate them once their parent is inserted;\n",
    "            # - feel free to use a different approach if you find it easier to do so.\n",
    "            weight1, index1 = heapq.heappop(roots)\n",
    "            weight2, index2 = heapq.heappop(roots)\n",
    "            new_index = len(parent_nodes)\n",
    "            new_node = (weight1 + weight2, new_index)\n",
    "            heapq.heappush(roots, new_node)\n",
    "            parent_nodes.append(None)\n",
    "            parent_nodes[index1] = (new_index, False)\n",
    "            parent_nodes[index2] = (new_index, True)\n",
    "\n",
    "        self.parent_nodes = parent_nodes\n",
    "        \n",
    "    def __getitem__(self, symbol):\n",
    "        \"\"\"Encode a single symbol.\n",
    "\n",
    "        Args:\n",
    "            symbol (int): A symbol from the alphabet {0, 1, ..., len-1}.\n",
    "                \n",
    "        Returns:\n",
    "            The code word for `symbol`.\n",
    "        \"\"\"\n",
    "        assert 0 <= symbol and symbol < len(self)\n",
    "        \n",
    "        codeword_reverse = []\n",
    "        index = symbol\n",
    "        while True:\n",
    "            parent = self.parent_nodes[index]\n",
    "            if parent is None:\n",
    "                # Found root node.\n",
    "                break\n",
    "            else:\n",
    "                index, bit = parent\n",
    "                codeword_reverse.append(bit)\n",
    "        \n",
    "        return list(reversed(codeword_reverse))\n",
    "    \n",
    "    def __len__(self):\n",
    "        \"\"\"Returns the size of the alphabet.\"\"\"\n",
    "        # A binary tree with `N` leaves has `M = 2*N - 1` nodes, regardless of\n",
    "        # its shape. Therefore, `N = (M + 1) / 2`.\n",
    "        return (len(self.parent_nodes) + 1) // 2"
   ]
  },
  {
   "cell_type": "code",
   "execution_count": 10,
   "id": "1173ab03",
   "metadata": {},
   "outputs": [],
   "source": [
    "def compare(num_symbols=1000, precision=12, master_seed=123, min_alphabet_size=2, max_alphabet_size=11):\n",
    "    encoder = StreamingAnsCoder(precision)\n",
    "    total_inf_content = 0\n",
    "    shannon_bitrate = 0\n",
    "    huffman_bitrate = 0\n",
    "    for i in range(num_symbols):\n",
    "        scaled_probabilities, symbol, inf_content = random_model_and_symbol(\n",
    "            master_seed * num_symbols + i, precision, min_alphabet_size, max_alphabet_size)\n",
    "        encoder.encode(symbol, scaled_probabilities)\n",
    "        total_inf_content += inf_content\n",
    "        shannon_bitrate += int(np.ceil(inf_content))\n",
    "        huffman_codebook = HuffmanEncoder(scaled_probabilities)\n",
    "        huffman_bitrate += len(huffman_codebook[symbol])\n",
    "\n",
    "    compressed = encoder.get_compressed()\n",
    "    ans_bitrate = (len(encoder.bulk) + 2) * precision\n",
    "    print(f'Encoded {num_symbols} random symbols with a total information content of {total_inf_content:.2f} bits.')\n",
    "    print(f'- ANS (precision={precision}): {ans_bitrate} bits ({ans_bitrate - total_inf_content:.2f} bits or {100 * (ans_bitrate - total_inf_content) / total_inf_content:.2g}% overhead)')\n",
    "    print(f'- Huffman Coding: {huffman_bitrate} bits ({huffman_bitrate - total_inf_content:.2f} bits or {100 * (huffman_bitrate - total_inf_content) / total_inf_content:.2g}% overhead)')\n",
    "    print(f'- Shannon Coding: {shannon_bitrate} bits ({shannon_bitrate - total_inf_content:.2f} bits or {100 * (shannon_bitrate - total_inf_content) / total_inf_content:.2g}% overhead)')\n",
    "\n",
    "    decoder = StreamingAnsCoder(precision, compressed)\n",
    "    for i in reversed(range(num_symbols)):\n",
    "        scaled_probabilities, expected_symbol, _ = random_model_and_symbol(\n",
    "            master_seed * num_symbols + i, precision, min_alphabet_size, max_alphabet_size)\n",
    "        symbol = decoder.decode(scaled_probabilities)\n",
    "        assert symbol == expected_symbol\n",
    "\n",
    "    print('Successfully reconstructed original message.')\n",
    "    print()"
   ]
  },
  {
   "cell_type": "code",
   "execution_count": 11,
   "id": "94fca592",
   "metadata": {
    "scrolled": true
   },
   "outputs": [
    {
     "name": "stdout",
     "output_type": "stream",
     "text": [
      "Encoded 1000 random symbols with a total information content of 2001.55 bits.\n",
      "- ANS (precision=12): 2016 bits (14.45 bits or 0.72% overhead)\n",
      "- Huffman Coding: 2112 bits (110.45 bits or 5.5% overhead)\n",
      "- Shannon Coding: 2519 bits (517.45 bits or 26% overhead)\n",
      "Successfully reconstructed original message.\n",
      "\n",
      "Encoded 10000 random symbols with a total information content of 20705.43 bits.\n",
      "- ANS (precision=12): 20748 bits (42.57 bits or 0.21% overhead)\n",
      "- Huffman Coding: 21756 bits (1050.57 bits or 5.1% overhead)\n",
      "- Shannon Coding: 25868 bits (5162.57 bits or 25% overhead)\n",
      "Successfully reconstructed original message.\n",
      "\n"
     ]
    }
   ],
   "source": [
    "compare(num_symbols=1000, precision=12, min_alphabet_size=2, max_alphabet_size=11)\n",
    "compare(num_symbols=10000, precision=12, min_alphabet_size=2, max_alphabet_size=11)"
   ]
  },
  {
   "cell_type": "code",
   "execution_count": 12,
   "id": "b0baf758",
   "metadata": {},
   "outputs": [
    {
     "name": "stdout",
     "output_type": "stream",
     "text": [
      "Encoded 1000 random symbols with a total information content of 1135.89 bits.\n",
      "- ANS (precision=12): 1164 bits (28.11 bits or 2.5% overhead)\n",
      "- Huffman Coding: 1350 bits (214.11 bits or 19% overhead)\n",
      "- Shannon Coding: 1677 bits (541.11 bits or 48% overhead)\n",
      "Successfully reconstructed original message.\n",
      "\n",
      "Encoded 10000 random symbols with a total information content of 11796.06 bits.\n",
      "- ANS (precision=12): 11844 bits (47.94 bits or 0.41% overhead)\n",
      "- Huffman Coding: 13735 bits (1938.94 bits or 16% overhead)\n",
      "- Shannon Coding: 17223 bits (5426.94 bits or 46% overhead)\n",
      "Successfully reconstructed original message.\n",
      "\n"
     ]
    }
   ],
   "source": [
    "compare(num_symbols=1000, precision=12, min_alphabet_size=2, max_alphabet_size=4)\n",
    "compare(num_symbols=10000, precision=12, min_alphabet_size=2, max_alphabet_size=4)"
   ]
  },
  {
   "cell_type": "code",
   "execution_count": null,
   "id": "1675833d",
   "metadata": {},
   "outputs": [],
   "source": []
  }
 ],
 "metadata": {
  "kernelspec": {
   "display_name": "Python 3",
   "language": "python",
   "name": "python3"
  },
  "language_info": {
   "codemirror_mode": {
    "name": "ipython",
    "version": 3
   },
   "file_extension": ".py",
   "mimetype": "text/x-python",
   "name": "python",
   "nbconvert_exporter": "python",
   "pygments_lexer": "ipython3",
   "version": "3.8.2"
  }
 },
 "nbformat": 4,
 "nbformat_minor": 5
}
