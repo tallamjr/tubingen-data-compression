{
 "cells": [
  {
   "cell_type": "markdown",
   "id": "71355534",
   "metadata": {},
   "source": [
    "# Problem Set 5: Bits-Back Coding With Latent Variable Models\n",
    "\n",
    "**This problem set is part of the course \"Data Compression With Deep Probabilistic Models\" by Prof. Robert Bamler at University of Tuebingen, Germany. You can find more course materials (lecture notes, video recordings, and solutions) at the course website, https://robamler.github.io/teaching/compress21/**\n",
    "\n",
    "**Problem Set Published:** 20 May 2021<br>\n",
    "**Discussion:** 31 May 2021\n",
    "\n",
    "*This problem set is provided both as a jupyter notebook and as a PDF rendering of the same notbook. The jupyter notebook contains several blanks where you have to fill in your code to solve the problems. I kept all output that I obtained from running my solutions in the notebook and in the PDF, so that you can compare them to your results. For this purpose, you may find it useful to refer to the PDF rendering of the notebook because my program output will obviously disappear from this notebook as soon as you run your code.*\n",
    "\n",
    "In response to several questions in the lecture on Tuesday, and deviating from the foreshadowing on last week's problem set, we will defer the planned discussion of mutual information to the next problem set and use this problem set to practice Bayesian inference and the bits-back coding method.\n",
    "In this problem set, you will implement several compression methods that use a latent variable model, and you will compare the empirical compression performance across these methods by comparing the resulting bit rates for some sample messages.\n",
    "The methods that you will implement are:\n",
    "1. a naive method that simply ignores correlations between symbols in a message;\n",
    "2. encoding and transmitting a MAP estimated latent variable, then encoding the message conditioned on the MAP estimate; and\n",
    "3. bits-back coding.\n",
    "\n",
    "You won't have to write much code for this problem set because all the setup is already done for you.\n",
    "You only need to fill in the most critical parts.\n",
    "But, in order to do this, you have to understand what all the setup does.\n",
    "So read the instructions carefully and make sure you understand every part before you move on to the next."
   ]
  },
  {
   "cell_type": "markdown",
   "id": "f24b825d",
   "metadata": {},
   "source": [
    "## Problem 5.1: Prerequisites\n",
    "\n",
    "You won't yet write much code in this problem, we'll just set up everything here so that you can get your hands dirty in Problems 5.2-5.4.\n",
    "\n",
    "This problem set focuses on the interplay between source coding and probabilistic modelling.\n",
    "\n",
    "- we will focus on the question: \"which random variables have to be encoded or decoded with which probabilistic models at what time?\"\n",
    "- we will *not* (for now) address the question: \"*how* do we encode the random variables into a bit string (once we've figured out *what* random variables we want to encode and with which model).\"\n",
    "\n",
    "Don't worry: you'll learn the answer to the second question in the next lecture.\n",
    "For now, just think of the encoding algorithm that you'll use below as something similar to Huffman Coding, just with smaller overhead.\n",
    "\n",
    "### Problem 5.1 (a): a library of entropy coding primitives\n",
    "\n",
    "To actually perform the encoding and decoding, we'll use the [`constriction` library](https://bamler-lab.github.io/constriction/), which was specially developed with research and teaching use cases in mind.\n",
    "This library is still in its early days (quite literally!), so you may find some bugs.\n",
    "Please [report issues](https://github.com/bamler-lab/constriction/issues) (or ping me on discord) if `constriction` doesn't work on your system, so I can try to fix it.\n",
    "\n",
    "To test if `constriction` works on your system, please follow these steps:\n",
    "\n",
    "1. Make sure you use Python version 3.7, 3.8, or 3.9, on either Linux, Windows, or Mac OS. Other systems are currently not supported.\n",
    "\n",
    "2. Install `constriction` via pip:"
   ]
  },
  {
   "cell_type": "code",
   "execution_count": 1,
   "id": "5a1720e0",
   "metadata": {
    "scrolled": true
   },
   "outputs": [
    {
     "name": "stdout",
     "output_type": "stream",
     "text": [
      "Requirement already satisfied: constriction in ./venv/lib/python3.8/site-packages (0.1.2)\n",
      "Requirement already satisfied: numpy in ./venv/lib/python3.8/site-packages (1.20.3)\n"
     ]
    }
   ],
   "source": [
    "!pip install --upgrade constriction numpy"
   ]
  },
  {
   "cell_type": "markdown",
   "id": "63615fe7",
   "metadata": {},
   "source": [
    "3. Once `constriction` is installed, import it and run the example code below.\n",
    "   - Carefully read the example code and make sure you understand how to use the showcased parts of the library.\n",
    "   - If the example code doesn't work on your system, then please let me know, either on discord or by [filing an issue](https://github.com/bamler-lab/constriction/issues)."
   ]
  },
  {
   "cell_type": "code",
   "execution_count": 2,
   "id": "5c3e31ab",
   "metadata": {},
   "outputs": [
    {
     "name": "stdout",
     "output_type": "stream",
     "text": [
      "Compressed data has 64 bits (includes padding to a multiple of 32 bits).\n",
      "[3521629398     430756]\n",
      "Both messages reconstructed successfully.\n"
     ]
    }
   ],
   "source": [
    "import constriction\n",
    "import numpy as np\n",
    "\n",
    "# Specify a probabilistic model of a data source (typically referred to as an \"entropy model\").\n",
    "lowest_symbol = 0  # Our alphabet consists of consecutive integers, starting at `lowest_symbol`.\n",
    "symbol_probabilities = np.array([0.3, 0.4, 0.2, 0.1], dtype=np.float64) # (must be 64-bit floats)\n",
    "\n",
    "# Define two toy example messages; symbols must be 32-bit signed integers within the range from\n",
    "# `lowest_symbol` (inclusively) to `lowest_symbol + len(symbol_probabilities)` (exclusively).\n",
    "message1 = np.array([3, 0, 1, 0, 2, 3, 2, 2], dtype=np.int32)\n",
    "message2 = np.array([1, 3, 2, 1, 3], dtype=np.int32)\n",
    "\n",
    "# Construct an entropy coder that uses the Asymmetric Numeral Systems (ANS) method (more on this\n",
    "# method in the next lecture). Then encode both messages with the coder and the entropy model.\n",
    "# Please note:\n",
    "# - we encode the messages *in reverse order* (first `message2`, then `message1`) because the\n",
    "#   ANS coder operates as a stack (\"last in first out\");\n",
    "# - we encode both messages with the same entropy model to keep things simple; but you could as\n",
    "#   well use a different entropy model for each message, as long as you then also use the\n",
    "#   correct entropy model for each message upon decoding (see below); and\n",
    "# - when you construct the `coder` below, you could also provide some initial bit string to the\n",
    "#   constructor; in this case, encoding would *append* to the existing bit string.\n",
    "coder = constriction.stream.stack.AnsCoder()\n",
    "coder.encode_iid_categorical_symbols_reverse(message2, lowest_symbol, symbol_probabilities)\n",
    "coder.encode_iid_categorical_symbols_reverse(message1, lowest_symbol, symbol_probabilities)\n",
    "\n",
    "# Get the compressed data as an array of unsigned 32-bit integers (this is how `constriction`\n",
    "# represents compressed data by default).\n",
    "compressed = coder.get_compressed()\n",
    "print(f'Compressed data has {len(compressed) * 32} bits (includes padding to a multiple of 32 bits).')\n",
    "print(compressed) # should print \"[3521629398     430756]\"\n",
    "\n",
    "# Create a decoder and decode the messages.\n",
    "# Please note:\n",
    "# - we're *popping the meessages off the stack*, so we'll first get `message1` and then `message2`;\n",
    "# - the `AnsCoder` class actually doesn't distinguish between an encoder and a decoder, i.e., you\n",
    "#   could also use the original `coder` for decoding; and\n",
    "# - the first argument for the method `decode_iid_categorical_symbols` is the number of symbols you\n",
    "#   want to decode.\n",
    "decoder = constriction.stream.stack.AnsCoder(compressed)\n",
    "reconstruction1 = decoder.decode_iid_categorical_symbols(8, lowest_symbol, symbol_probabilities)\n",
    "reconstruction2 = decoder.decode_iid_categorical_symbols(5, lowest_symbol, symbol_probabilities)\n",
    "\n",
    "# Verify correctness.\n",
    "assert np.all(reconstruction1 == message1)\n",
    "assert np.all(reconstruction2 == message2)\n",
    "print(\"Both messages reconstructed successfully.\")\n",
    "\n",
    "# An `AnsCoder` encapsulates a compressed bit string. Encoding symbols *appends* data to the\n",
    "# encapsulated bit string and decoding symbols *consumes* data from the encapsulated bit string\n",
    "# (with \"stack\" semantics). Thus, once you've decoded all symbols, the bit string is empty:\n",
    "assert len(decoder.get_compressed()) == 0"
   ]
  },
  {
   "cell_type": "markdown",
   "id": "22ec7893",
   "metadata": {},
   "source": [
    "#### Your Task\n",
    "\n",
    "To verify that you understand how the library works, change the above example so that it still encodes both `message1` and `message2`, but now with *different* entropy models.\n",
    "While `message1` should be encoded and decoded as before, `message2` should now be encoded and decoded with a model that supports only the alphabet $\\{1, 2, 3\\}$ (i.e., it doesn't support the symbol \"$0$\"), and the probabilities are $P(X_i=1)=0.5$, $P(X_i=2)=0.2$, and $P(X_i=3)=0.3$.\n",
    "Your implementation should print the compressed representation as being `[2884514895      59071]`, and it should then be able to successfully reconstruct both messages.\n",
    "\n",
    "If you want to play around more with this library then you may want to refer to the [API documentation](https://bamler-lab.github.io/constriction/apidoc/python/) (which is still a bit incomplete, though). "
   ]
  },
  {
   "cell_type": "markdown",
   "id": "7ddc7385",
   "metadata": {},
   "source": [
    "#### Proposed Solution"
   ]
  },
  {
   "cell_type": "code",
   "execution_count": 3,
   "id": "975a5712",
   "metadata": {},
   "outputs": [
    {
     "name": "stdout",
     "output_type": "stream",
     "text": [
      "Compressed data has 64 bits (includes padding to a multiple of 32 bits).\n",
      "[2884514895      59071]\n",
      "Both messages reconstructed successfully.\n"
     ]
    }
   ],
   "source": [
    "import constriction\n",
    "import numpy as np\n",
    "\n",
    "lowest_symbol1 = 0\n",
    "lowest_symbol2 = 1\n",
    "symbol_probabilities1 = np.array([0.3, 0.4, 0.2, 0.1], dtype=np.float64)\n",
    "symbol_probabilities2 = np.array([0.5, 0.2, 0.3], dtype=np.float64)\n",
    "\n",
    "message1 = np.array([3, 0, 1, 0, 2, 3, 2, 2], dtype=np.int32)\n",
    "message2 = np.array([1, 3, 2, 1, 3], dtype=np.int32)\n",
    "\n",
    "coder = constriction.stream.stack.AnsCoder()\n",
    "coder.encode_iid_categorical_symbols_reverse(message2, lowest_symbol2, symbol_probabilities2)\n",
    "coder.encode_iid_categorical_symbols_reverse(message1, lowest_symbol1, symbol_probabilities1)\n",
    "\n",
    "compressed = coder.get_compressed()\n",
    "print(f'Compressed data has {len(compressed) * 32} bits (includes padding to a multiple of 32 bits).')\n",
    "print(compressed)\n",
    "\n",
    "decoder = constriction.stream.stack.AnsCoder(compressed)\n",
    "reconstruction1 = decoder.decode_iid_categorical_symbols(8, lowest_symbol1, symbol_probabilities1)\n",
    "reconstruction2 = decoder.decode_iid_categorical_symbols(5, lowest_symbol2, symbol_probabilities2)\n",
    "\n",
    "assert np.all(reconstruction1 == message1)\n",
    "assert np.all(reconstruction2 == message2)\n",
    "print(\"Both messages reconstructed successfully.\")\n",
    "\n",
    "assert len(decoder.get_compressed()) == 0"
   ]
  },
  {
   "cell_type": "markdown",
   "id": "f072ffb9",
   "metadata": {},
   "source": [
    "### Problem 5.1 (b): Generative Model\n",
    "\n",
    "Now, let's set up everything we need for Problems 5.2, 5.3, and 5.4 below, where you will implement three different compression techniques.\n",
    "\n",
    "The first step is to define a probabilistic model of a data source.\n",
    "We will use a very simple probabilistic model so that you can focus on the coding techniques and you don't get distracted by complicated model architectures.\n",
    "Unfortunately, this means that the model is somewhat contrived.\n",
    "Don't get discouraged by this!\n",
    "The same techniques that you will learn at the example of this toy model have recently been applied to powerful deep learning models, resulting in some of the most competitive image and video compression methods.\n",
    "Trying them out on a simplified toy model will allow you to easily change parameters so that you can explore why certain methods work better or worse in different regimes (see Problem 5.5 below).\n",
    "\n",
    "We consider messages $\\mathbf x=(x_1,x_2,\\ldots,x_k)$ that are sequences of $k$ binary symbols, $x_i \\in\\{\\texttt{True}, \\texttt{False}\\}\\;\\forall i\\in\\{1,\\ldots,k\\}$.\n",
    "Our probabilistic model of the data source assumes that each symbol $x_i$ was generated by throwing a die and then setting:\n",
    "\n",
    "\\begin{align}\n",
    "    x_i &= \\begin{cases}\n",
    "        \\texttt{True} & \\text{if the die throw resulted in $1$, $2$, $3$, $4$, or $5$} \\\\\n",
    "        \\texttt{False} & \\text{else.}\n",
    "    \\end{cases}\n",
    "\\end{align}\n",
    "\n",
    "However, the die that is used to generate these symbols is not a standard six-sided die.\n",
    "Instead, it is a fair $z$-sided die, where $z$ can be any integer between $10$ and $60$ (both inclusively).\n",
    "Importantly, the value of $z$ is *not* part of the message, but it is the *same for all symbols $x_i$ within the message*.\n",
    "In this sense, $z$ is similar to the latent \"topic\" of the newspaper headlines that we discussed in the lecture, which was also not part of the message and assumed to be the same for all words in any given headline.\n",
    "\n",
    "Thus, the probabilistic model $P(\\mathbf X)$ of the messages $\\mathbf X$ results from *marginalizing over a latent variable $Z\\in\\{10,\\ldots,60\\}$* in a joint probability distribution $P(\\mathbf X, Z)$, i.e.,\n",
    "\n",
    "\\begin{align}\n",
    "    P(\\mathbf X) &= \\sum\\limits_{z=10}^{60} P(\\mathbf X, Z=z)\n",
    "\\end{align}\n",
    "with\n",
    "\\begin{align}\n",
    "    P(\\mathbf X, Z) = P(Z) \\, P(\\mathbf X|Z) = P(Z)\\, \\prod\\limits_{i=1}^k P(X_i |Z).\n",
    "\\end{align}\n",
    "\n",
    "We assume that we have no prior knowledge about the value of $Z$ (apart from the fact that it is in the range from $10$ to $60$).\n",
    "In statistics speak, this means that we use an uninformative (i.e., maximum-entropy) prior,\n",
    "\\begin{align}\n",
    "    P(Z=z) = \\frac{1}{51} \\qquad\\text{for all $z\\in\\{10,\\ldots,60\\}$}.\n",
    "\\end{align}\n",
    "\n",
    "The likelihood $P(X_i|Z)$ follows from the die-throwing process described above, i.e.,\n",
    "\\begin{align}\n",
    "    P(X_i=x_i\\, |\\, Z=z) &= \\begin{cases}\n",
    "        \\frac{5}{z} & \\text{if $x_i=\\texttt{True}$;} \\\\[3pt]\n",
    "        \\frac{z-5}{z} & \\text{if $x_i=\\texttt{False}$.}\n",
    "    \\end{cases}\n",
    "\\end{align}\n",
    "\n",
    "The following code defines the prior and likelihood.\n",
    "Read it carefully and make sure you understand what both functions do and why they match the mathematical definition above."
   ]
  },
  {
   "cell_type": "code",
   "execution_count": 4,
   "id": "9df475a2",
   "metadata": {},
   "outputs": [],
   "source": [
    "import numpy as np\n",
    "import constriction\n",
    "import matplotlib.pyplot as plt"
   ]
  },
  {
   "cell_type": "code",
   "execution_count": 5,
   "id": "675c8537",
   "metadata": {},
   "outputs": [],
   "source": [
    "domain_z = np.arange(10, 60 + 1)\n",
    "domain_x = np.array([False, True])\n",
    "\n",
    "def prior(z):\n",
    "    prior_probability = 1 / len(domain_z)\n",
    "    if isinstance(z, np.ndarray):\n",
    "        # if `z` is an array then return an array with the prior probability of each `z`\n",
    "        # (which is the same for all elements since the prior probability doesn't depend on `z`)\n",
    "        return np.full(z.shape, prior_probability)\n",
    "    else:\n",
    "        return prior_probability\n",
    "\n",
    "def likelihood(x_i, z):\n",
    "    # This is essentially an `if` statement except that it generalizes to the case where `x_i` is\n",
    "    # an array of booleans (in which case it evaluates the likelihood on each element and returns\n",
    "    # an array of the results). To see this, evaluate the expression on the next line for\n",
    "    # `x_i = True` and for `x_i = False` in your head and verify for yourself that you get the\n",
    "    # correct result in both cases.\n",
    "    return ((1 - x_i) * (z - 5) + x_i * 5) / z"
   ]
  },
  {
   "cell_type": "markdown",
   "id": "1a5cbae6",
   "metadata": {},
   "source": [
    "#### Verify Model Correctness and Generate Toy Data\n",
    "\n",
    "It's always a good idea to check empirically if we've made any obvious mistake in the model definition (like missing a prefactor, etc.).\n",
    "We want to catch such mistakes early because they will be very hard to detect later on (even if we made a mistake in the model definition, it's possible that all the compression methods on top of it will still technically work, they will just perform worse than they could).\n",
    "\n",
    "A simple way to check for obvious errors in the model definition is to implement the generative process *in the most naive way possible* (so that you can be sure it's correct), generate some random samples from the model, plot histograms of these random samples, and then just visually compare the histograms to the model.\n",
    "As a side effect of this, we also get some toy data that we will later use to test our compression methods.\n",
    "\n",
    "**NOTE:** We only test the *likelihood* here, i.e., we pretend that we know the value of the latent variable $Z$. In the full problem, we assume that at least the receiver *doesn't* know the value of $Z$."
   ]
  },
  {
   "cell_type": "code",
   "execution_count": 6,
   "id": "1a09ba32",
   "metadata": {},
   "outputs": [
    {
     "data": {
      "image/png": "[encoded data removed]",
      "text/plain": [
       "<Figure size 1080x180 with 6 Axes>"
      ]
     },
     "metadata": {
      "needs_background": "light"
     },
     "output_type": "display_data"
    }
   ],
   "source": [
    "rng = np.random.RandomState(123) # Always set a random seed so that you can reproduce failing tests.\n",
    "\n",
    "num_samples_per_z = 1000\n",
    "samples_x = np.empty((len(domain_z), num_samples_per_z), dtype=np.int32)\n",
    "fig, axs = plt.subplots(1, (len(domain_z) + 9) // 10, figsize=(15, 2.5), sharey=True)\n",
    "\n",
    "for z_index, z in enumerate(domain_z):\n",
    "    # Generate some samples from the likelihood P(X_i | Z=z) in the most naive way possible\n",
    "    # so that we can be sure that these samples are generated corretly.\n",
    "    for i in range(num_samples_per_z):\n",
    "        samples_x[z_index, i] = (rng.choice(z) < 5)  # Note: `rng.choice(z)` returns a value from 0 to `z-1`.\n",
    "    \n",
    "    if z_index % 10 == 0:\n",
    "        ax = axs[z_index // 10]\n",
    "        ax.set_title(f'$z = {z}$')\n",
    "        ax.hist(\n",
    "            samples_x[z_index],\n",
    "            weights=[1/num_samples_per_z] * num_samples_per_z, # Probably not the nicest solution, but it works.\n",
    "            label='empirically')\n",
    "        ax.plot([0, 1], likelihood(domain_x, z), 'o', label='model likelihood')\n",
    "        ax.set_xlabel('value $x_i$')\n",
    "        ax.set_xlim(-0.5, 1.5)\n",
    "        ax.set_xticks([0, 1])\n",
    "        ax.set_xticklabels(['False', 'True'])\n",
    "\n",
    "axs[0].set_ylabel('fraction of symbols\\nwith value $x_i$')\n",
    "axs[0].legend(loc='upper left')\n",
    "    \n",
    "fig.subplots_adjust(wspace=0.04)"
   ]
  },
  {
   "cell_type": "markdown",
   "id": "cdcb82d0",
   "metadata": {},
   "source": [
    "#### Your Task\n",
    "\n",
    "Look at the above graphs and make sure you understand what they show (you'll probably have to refer to the code for this purpose).\n",
    "Then make sure that you understand why the graphs are consistent with what we expect from the model.\n",
    "In particular, you should notice:\n",
    "- that the models (organge dots) match the empirical distributions (blue bars) up to small deviations that seem consistent with random noise;\n",
    "- that the likelihood for $z=10$ looks like it's symmetric; why is that what we expect for the case $z=10$?\n",
    "- that, for increasing $z$, both the empirical distribution and the likelihood start to favor the `False` symbol; why is that too consistent with our expectation?"
   ]
  },
  {
   "cell_type": "markdown",
   "id": "58365f69",
   "metadata": {},
   "source": [
    "### Problem 5.1 (c): Test Harness\n",
    "\n",
    "As a final setup step, the following code defines a generic function to test a compression method.\n",
    "Read the doc string and make sure you understand it, then move on to Problem 5.2, where you'll finally be able to get your hands dirty."
   ]
  },
  {
   "cell_type": "code",
   "execution_count": 7,
   "id": "958a80b5",
   "metadata": {},
   "outputs": [],
   "source": [
    "def test_compression_method(encode, decode, message_length=100):\n",
    "    \"\"\"Verify correctness and evaluate compression performance of an encoder-decoder pair.\n",
    "\n",
    "    This function encodes several random messages from the model into a single bit string\n",
    "    by repeatedly calling the provided callback `encode`. It then decodes all messages from\n",
    "    the compressed bit string by repeatedly calling the provided callback `decode`, and it\n",
    "    verifies that all decoded messages match the original messages. The function returns\n",
    "    the average bit rate per message (averaged over all tested messages).\n",
    "\n",
    "    Thus, this function simulates a real-world scenario where you'd typically use a single\n",
    "    channel to communicate several messages. Note that all sample messages are *independent*\n",
    "    draws from the above probabilistic model. Thus, while the symbols *within each message*\n",
    "    are all generated with the same latent $z$, the value $z$ will differ across messages.\n",
    "    Therefore, the *concatenation* of the sample messages would *not* be distributed\n",
    "    according to the probabilistic model. Again, this simulates the typical real-world\n",
    "    scenario: if you were to communicate, e.g., a sequence of images, then you'd expect each\n",
    "    individual image to show a consistent scene, but it would be unreasonable to assume that\n",
    "    the concatenation of all images would also show a single scene.\n",
    "\n",
    "    Args:\n",
    "        encode: a function with the signature `encode(message, existing_compressed)`. Should\n",
    "            compress the `message` by appending an encoded representation of it to\n",
    "            `existing_compressed` and return the resulting (longer) compressed bit string.\n",
    "        decode: a function with the signature `decode(compressed, num_symbols)`. Should\n",
    "            decode `num_symbols` symbols from the *end* of the bit string `compressed` and\n",
    "            return a tuple `(symbols, remaining)`, where `symbols` are the decoded symbols\n",
    "            and `remaining` is any part of the original bit string `compressed` that was not\n",
    "            used up by the decoding process.\n",
    "        message_length: the number of symbols in each sample message (defaults to 100).\n",
    "\n",
    "    Returns:\n",
    "        float: the average bit rate per message.\n",
    "    \"\"\"\n",
    "\n",
    "    assert message_length <= samples_x.shape[1]\n",
    "\n",
    "    # Compress the messages, starting with no compressed data, and growing the buffer of\n",
    "    # compressed data in each step.\n",
    "    # [Technical note: this function is for demonstration purpose; in a real application, you'd\n",
    "    # want to pass around `AnsCoder`s instead of compressed data so that the `encode` callback\n",
    "    # doesn't have to copy compressed data into and out of an `AnsCoder` all the time.]\n",
    "    compressed = np.array([], dtype=np.uint32)\n",
    "    for i, z in enumerate(domain_z):\n",
    "        compressed = encode(samples_x[i, :message_length], compressed)\n",
    "\n",
    "    total_bitrate = len(compressed) * 32 # `compressed` is an array of unsigned 32-bit integers.\n",
    "\n",
    "    # Decompress the data and verify that this reconstructs the original messages. We iterate\n",
    "    # *in reverse order* since we assume that the provided encoder-decoder pair operate as a stack.\n",
    "    for i, z in reversed(list(enumerate(domain_z))):\n",
    "        reconstructed, compressed = decode(compressed, message_length)\n",
    "        assert np.all(reconstructed == samples_x[i, :message_length])\n",
    "\n",
    "    return total_bitrate / len(domain_z)"
   ]
  },
  {
   "cell_type": "markdown",
   "id": "94616476",
   "metadata": {},
   "source": [
    "## Various Compression Techniques\n",
    "\n",
    "Problems 5.2-5.4 make up the meat of this problem set.\n",
    "You'll implement three different techniques to encode data from the data source defined in Problem 5.1 above.\n",
    "You'll start with a trivial technique in Problem 5.2 and then gradually increase the complexity in Problems 5.3 and 5.4.\n",
    "In Problem 5.5, you'll compare the empirical compression performance of these three techniques."
   ]
  },
  {
   "cell_type": "markdown",
   "id": "fde3115e",
   "metadata": {},
   "source": [
    "## Problem 5.2: Compressing Without Exploiting Correlations\n",
    "\n",
    "### Problem 5.2 (a): Define a Simplified Model of the Data Source\n",
    "\n",
    "In the simplest way, we could just ignore the correlations between the symbols $X_i$ that result from the marginalization over the latent variable $Z$.\n",
    "Thus, while the data that we want to compress will still come from the probability distribution $P$ defined in Problem 5.1 above, we don't actually use this probability distribution as our entropy model for compression.\n",
    "Instead, we will use a simplified model $P'$ that factorizes over all symbols,\n",
    "\\begin{align}\n",
    "    P'(\\mathbf{X}) = \\prod_{i=1}^k P'(X_i)\n",
    "\\end{align}\n",
    "and we simply encode all messages (regardless of the value of $Z$ that was used to generate them) by encoding each symbol with the entropy model $P'$.\n",
    "We therefore don't even have to encode and transmit any value of $Z$ to the receiver.\n",
    "\n",
    "\n",
    "#### Your Tasks\n",
    "\n",
    "1. Show that the best choice for $P'(X_i)$ (i.e., the one that minimizes the expected bit rate) is the *marginal symbol distribution*,\n",
    "\\begin{align}\n",
    "    P'(X_i) := \\sum_{z=10}^{60} P(Z=z) \\,P(X_i\\,|\\, Z=z).\n",
    "\\end{align}\n",
    "2. Then implement the function `marginal_symbol_probability` below and verify that it returns the correct result when applied to `domain_x`."
   ]
  },
  {
   "cell_type": "markdown",
   "id": "41c401cf",
   "metadata": {},
   "source": [
    "#### Proposed Solution"
   ]
  },
  {
   "cell_type": "code",
   "execution_count": 8,
   "id": "30495201",
   "metadata": {},
   "outputs": [],
   "source": [
    "def marginal_symbol_probability(x_i):\n",
    "    # There might be a more clever way to do this using numpy's broadcasting rules but this\n",
    "    # problem set is about understanding the fundamental algorithm and not about numpy tricks.\n",
    "    accum = 0\n",
    "    for z in domain_z:\n",
    "        accum += prior(z) * likelihood(x_i, z)\n",
    "    return accum"
   ]
  },
  {
   "cell_type": "code",
   "execution_count": 9,
   "id": "5161717a",
   "metadata": {},
   "outputs": [
    {
     "data": {
      "text/plain": [
       "array([0.818539, 0.181461])"
      ]
     },
     "execution_count": 9,
     "metadata": {},
     "output_type": "execute_result"
    }
   ],
   "source": [
    "# should return `array([0.818539, 0.181461])`\n",
    "marginal_symbol_probability(domain_x)"
   ]
  },
  {
   "cell_type": "markdown",
   "id": "03944242",
   "metadata": {},
   "source": [
    "Looks reasonable, it's somewhere between the cases for $z=10$ and $z=60$ from the above figure."
   ]
  },
  {
   "cell_type": "markdown",
   "id": "3d30a09a",
   "metadata": {},
   "source": [
    "### Problem 5.2 (b): Implement And Test the Encoder and Decoder"
   ]
  },
  {
   "cell_type": "markdown",
   "id": "ee3a89ad",
   "metadata": {},
   "source": [
    "#### Your Task\n",
    "\n",
    "Let's get real!\n",
    "Implement functions `encode_independently` and `decode_independently` that encode and decode a message using the simplified entropy model $P'$.\n",
    "These methods should behave as described in the doc string of the function `test_compression_method` defined in Problem 5.1 (c) above.\n",
    "You may find it useful to refer back to Problem 5.1 (a) to refresh your memory of how to construct an `AnsCoder` with some existing compressed data, how to encode and decode some symbols with it, and how to get the compressed data out of an `AnsCoder`.\n",
    "\n",
    "Once you've implemented both the encoder and the decoder, run the unit test as indicated below and make sure that it passes."
   ]
  },
  {
   "cell_type": "markdown",
   "id": "3455f164",
   "metadata": {},
   "source": [
    "#### Proposed Solution"
   ]
  },
  {
   "cell_type": "code",
   "execution_count": 10,
   "id": "1c35ae51",
   "metadata": {},
   "outputs": [],
   "source": [
    "def encode_independently(message, existing_compressed):\n",
    "    coder = constriction.stream.stack.AnsCoder(existing_compressed)\n",
    "    coder.encode_iid_categorical_symbols_reverse(message, 0, marginal_symbol_probability(domain_x))\n",
    "    return coder.get_compressed()\n",
    "\n",
    "def decode_independently(compressed, num_symbols):\n",
    "    coder = constriction.stream.stack.AnsCoder(compressed)\n",
    "    symbols = coder.decode_iid_categorical_symbols(num_symbols, 0, marginal_symbol_probability(domain_x))\n",
    "    return symbols, coder.get_compressed()"
   ]
  },
  {
   "cell_type": "code",
   "execution_count": 11,
   "id": "03ac4d4f",
   "metadata": {
    "scrolled": true
   },
   "outputs": [
    {
     "data": {
      "text/plain": [
       "69.01960784313725"
      ]
     },
     "execution_count": 11,
     "metadata": {},
     "output_type": "execute_result"
    }
   ],
   "source": [
    "# This should run without raising an exception and return an average bit rate of about 69\n",
    "test_compression_method(encode_independently, decode_independently)"
   ]
  },
  {
   "cell_type": "markdown",
   "id": "e1f07aa7",
   "metadata": {},
   "source": [
    "## Problem 5.3: Compressing With a Maximum A-Posteriori (MAP) Estimate of $Z$\n",
    "\n",
    "In this problem, you will encode the message $\\mathbf{x}=(x_1,x_2,\\ldots,x_k)$ with a more accurate model than the simplified model $P'$ from Problem 5.2.\n",
    "To do this, you will exploit the fact that the stochastic process that generated the message used the *same* value $z$ of the latent variable $Z$ for generating all symbols $x_i$ within any given message.\n",
    "Thus, the likelihood $P(\\mathbf X|Z=z)$ should be a better model than $P'$ for encoding the messages.\n",
    "\n",
    "Unfortunately, the receiver doesn't know which $z$ was used to generate the message.\n",
    "Thus, you'll have to encode and transmit not only the message $\\mathbf x$ but also the value $z$ of the latent variable $Z$ (even though $z$ is not part of the message).\n",
    "\n",
    "While the *sender* might know the true value of $Z$ that was used during the generation of the message (depending on the circumstances of how our compression method gets deployed), knowing this value on the *sender* side doesn't actually help.\n",
    "All we want to achieve is to compress a given message $\\mathbf x$ into as short a bit string as possible.\n",
    "The fact that we have to transmit some value for $Z$ to do this is more of a nuissance, and nobody forces us to transmit the value of $Z$ that was actually used in the generative process.\n",
    "Therefore, instead of using the \"ground truth\" value of $Z$, we will use the value $z^*$ that minimizes the total resulting bit rate.\n",
    "As we discussed in the lecture, we get $z^*$ by minimizing the *joint* information content with a fixed message $\\mathbf x$,\n",
    "\n",
    "\\begin{align}\n",
    "    z^* &= \\arg\\min_z \\big[-\\log P(\\mathbf X=\\mathbf x, Z=z) \\big]\n",
    "    = \\arg\\max_z \\left[ \\log P(Z=z) + \\sum_{i=1}^k \\log P(X_i=x_i \\, |\\, Z=z) \\right].\n",
    "\\end{align}\n",
    "\n",
    "Note that:\n",
    "- The logarithm may *seem* unnecessary for taking the $\\arg\\max$, but it is important in practice because it prevents numerical underflow as $P(\\mathbf X=\\mathbf x\\,|\\, Z=z) = \\prod_{i=1}^k P(X_i=x_i\\,|\\,Z=z)$ is exponentially small in $k$.)\n",
    "- As discussed in the lecture, the solution $z^*$ is also called the *maximum a-posteriori* (MAP) solution since maximizing the joint distribution $P(\\mathbf X=\\mathbf x, Z)$ over all possible values of $Z$ is equivalent to maximizing the *posterior distribution*, $P(Z\\, |\\, \\mathbf{X}=\\mathbf{x}) = P(\\mathbf X=\\mathbf x, Z)\\,/\\, P(\\mathbf X=\\mathbf x)$ (because the posterior and the joint only differ by the positive multiplicative factor $P(\\mathbf X=\\mathbf x)$, which is a constant for any given message $\\mathbf x$).\n",
    "\n",
    "#### Your tasks\n",
    "\n",
    "1. Implement the function `map_estimate` below, which takes an array of symbols `xs`.\n",
    "2. Make sure you didn't make any obvious mistake by running the code below that tests `map_estimate` on some of our sample messages and generates a visualization of the results.\n",
    "3. Then implement an encoder and decoder (similar to Problem 5.2) and test them.\n",
    "   - Remember that, in this problem, you have to transmit both the message $\\mathbf x$ and the latent variable $z^*$, and you'll need to use different entropy models for the two. You should have experience in this kind of task from solving Problem 5.1 (a).\n",
    "   - Also remember that the `AnsCoder` that we're using here is a *stack*. So you'll have to encode first $\\mathbf x$ and then $z^*$ because the decoder will have to decode $z^*$ first so it can use it to construct the entropy model for decoding $\\mathbf x$. (For this problem, you could also use a `constriction.stream.queue.RangeEncoder`, which operates as a queue, but Problem 4 below will be much easier to solve with a stack.)"
   ]
  },
  {
   "cell_type": "markdown",
   "id": "ef47cc55",
   "metadata": {},
   "source": [
    "#### Proposed Solution"
   ]
  },
  {
   "cell_type": "code",
   "execution_count": 12,
   "id": "1bb6f590",
   "metadata": {},
   "outputs": [],
   "source": [
    "def log_joint_probability(xs, z):\n",
    "    # This is already provided for you. You don't need to change it (but you should understand it!)\n",
    "    return np.log(prior(z)) + np.sum(np.log(likelihood(xs, z)))\n",
    "\n",
    "def map_estimate(xs):\n",
    "    return domain_z[np.argmax([log_joint_probability(xs, z) for z in domain_z])]"
   ]
  },
  {
   "cell_type": "markdown",
   "id": "e4d6067f",
   "metadata": {},
   "source": [
    "Check that you didn't make any obvious mistake:"
   ]
  },
  {
   "cell_type": "code",
   "execution_count": 13,
   "id": "a96f80c9",
   "metadata": {},
   "outputs": [
    {
     "data": {
      "image/png": "[encoded data removed]",
      "text/plain": [
       "<Figure size 576x180 with 3 Axes>"
      ]
     },
     "metadata": {
      "needs_background": "light"
     },
     "output_type": "display_data"
    }
   ],
   "source": [
    "fig, axs = plt.subplots(1, 3, figsize=(8, 2.5), sharey=True)\n",
    "\n",
    "for ax, message_length in zip(axs, [10, 100, 1000]):\n",
    "    map_estimates = [map_estimate(samples_x[i, :message_length]) for i in range(len(domain_z))]\n",
    "    ax.set_title(f'$k={message_length}$')\n",
    "    ax.plot(domain_z, map_estimates, label='MAP estimate')\n",
    "    ax.plot(domain_z, domain_z, '--', c='gray', label='ground truth')\n",
    "    ax.set_xlabel('true $z$')\n",
    "\n",
    "axs[0].set_ylabel('MAP estimate')\n",
    "axs[-1].legend(loc='upper left', bbox_to_anchor=(1, 1))\n",
    "fig.subplots_adjust(wspace=0.04)    "
   ]
  },
  {
   "cell_type": "markdown",
   "id": "b5102a41",
   "metadata": {},
   "source": [
    "You should see that the MAP estimate is close to the ground truth for long messages (right plot) but the two may be very different for short messages (left plot).\n",
    "This is to be expected since short messages are more susceptible to noise, so a message generated with $Z=z$ may, by coincidence, actually look more *as if* it had been generated with some different $Z=z^*$.\n",
    "In such a case, it would be foolish to compress the message with the entropy model $P(\\mathbf X|Z=z)$ since you'll get a lower bit rate with the entropy model $P(\\mathbf X|Z=z^*)$."
   ]
  },
  {
   "cell_type": "markdown",
   "id": "d70bf281",
   "metadata": {},
   "source": [
    "#### Proposed Solution"
   ]
  },
  {
   "cell_type": "code",
   "execution_count": 14,
   "id": "a9ab4b86",
   "metadata": {},
   "outputs": [],
   "source": [
    "def encode_map(message, existing_compressed):\n",
    "    z = map_estimate(message)\n",
    "    coder = constriction.stream.stack.AnsCoder(existing_compressed)\n",
    "    coder.encode_iid_categorical_symbols_reverse(message, 0, likelihood(domain_x, z))\n",
    "    coder.encode_iid_categorical_symbols_reverse(np.array([z], dtype=np.int32), domain_z[0], prior(domain_z))\n",
    "    return coder.get_compressed()\n",
    "\n",
    "def decode_map(compressed, num_symbols):\n",
    "    coder = constriction.stream.stack.AnsCoder(compressed)\n",
    "    z = coder.decode_iid_categorical_symbols(1, domain_z[0], prior(domain_z))[0]\n",
    "    symbols = coder.decode_iid_categorical_symbols(num_symbols, 0, likelihood(domain_x, z))\n",
    "    return symbols, coder.get_compressed()"
   ]
  },
  {
   "cell_type": "code",
   "execution_count": 15,
   "id": "fd6f03c6",
   "metadata": {},
   "outputs": [
    {
     "data": {
      "text/plain": [
       "69.6470588235294"
      ]
     },
     "execution_count": 15,
     "metadata": {},
     "output_type": "execute_result"
    }
   ],
   "source": [
    "# This should run without raising an exception and return again an average bit rate of about 69.\n",
    "# You'll do a more thorough quantitative comparison between the different methods in Problem 5.5 below.\n",
    "test_compression_method(encode_map, decode_map)"
   ]
  },
  {
   "cell_type": "markdown",
   "id": "ab921b9c",
   "metadata": {},
   "source": [
    "## Problem 5.4: Bits-Back Coding\n",
    "\n",
    "You'll now implement the bits-back coding algorithm.\n",
    "This compression method is similar to the method you implemented in Problem 5.3 above.\n",
    "However, instead of setting $Z$ to the MAP estimate, the encoder will sneak some side information into the chosen value of $Z$.\n",
    "This side information can be any bit string, e.g., some previously compressed message.\n",
    "The decoder will then be able to recover this side information (in addition to being able to recover the encoded message)."
   ]
  },
  {
   "cell_type": "markdown",
   "id": "6769bfec",
   "metadata": {},
   "source": [
    "### Problem 5.4 (a): Bayesian Inference (i.e., Obtaining the Posterior Distribution)\n",
    "\n",
    "As discussed in the lecture, the first step of bits-back coding is to perform Bayesian inference.\n",
    "Thus, given a message $\\mathbf x$ that you want to compress, you have to find the *posterior probability distribution*,\n",
    "\n",
    "\\begin{align}\n",
    "    P(Z\\, |\\, \\mathbf{X}=\\mathbf{x})\n",
    "    &= \\frac{P(\\mathbf X=\\mathbf x,Z)}{P(\\mathbf X=\\mathbf x)}\n",
    "    = \\frac{P(Z)\\, P(\\mathbf X=\\mathbf x\\, |\\, Z)}{\\sum\\limits_{z'} P(Z=z')\\, P(\\mathbf X=\\mathbf x\\, |\\, Z=z')}\n",
    "\\end{align}\n",
    "\n",
    "#### Your task\n",
    "\n",
    "1. Implement a function `posterior_probabilities`, which takes an array of symbols `xs` (the \"s\" is for plural here), and which returns an array of floats of length `len(domain_z)`, which sums up to one (up to rounding errors) and which lists the posterior probabilities $P(Z=z\\, |\\, \\mathbf{X}=\\mathbf{x})$ for all $z\\in\\{10, 11, \\ldots, 60\\}$.\n",
    "2. Then run the code below that tests `posterior_probabilities` on some sample messages and generates a visualization of the results. Check if the plots look plausible as explained underneath the plots."
   ]
  },
  {
   "cell_type": "markdown",
   "id": "5e6ff756",
   "metadata": {},
   "source": [
    "#### Proposed Solution"
   ]
  },
  {
   "cell_type": "code",
   "execution_count": 16,
   "id": "f44a310f",
   "metadata": {},
   "outputs": [],
   "source": [
    "def posterior_probailities(xs):\n",
    "    unnormalized_log_posterior = np.array([log_joint_probability(xs, z) for z in domain_z])\n",
    "    unnormalized_log_posterior -= unnormalized_log_posterior.max() # LogSumExp-Trick for numerical stability.\n",
    "    unnormalized_posterior = np.exp(unnormalized_log_posterior)\n",
    "    normalizer = 1.0 / unnormalized_posterior.sum()\n",
    "    return normalizer * unnormalized_posterior"
   ]
  },
  {
   "cell_type": "markdown",
   "id": "141bbf9d",
   "metadata": {},
   "source": [
    "Let's evaluate the posterior probability distribution $P(Z\\, |\\, \\mathbf{X}=\\mathbf{x})$ on several sample messages $\\mathbf{x}$ and compare it to the MAP approximation:"
   ]
  },
  {
   "cell_type": "code",
   "execution_count": 17,
   "id": "4962adf5",
   "metadata": {},
   "outputs": [
    {
     "data": {
      "image/png": "[encoded data removed]",
      "text/plain": [
       "<Figure size 936x360 with 18 Axes>"
      ]
     },
     "metadata": {
      "needs_background": "light"
     },
     "output_type": "display_data"
    }
   ],
   "source": [
    "fig, axs = plt.subplots(3, (len(domain_z) + 9) // 10, figsize=(13, 5), sharex=True, sharey=True)\n",
    "\n",
    "for i, message_length in enumerate([10, 100, 1000]):\n",
    "    for z_index, z in enumerate(domain_z):\n",
    "        message = samples_x[z_index, :message_length]\n",
    "        posterior = posterior_probailities(message)\n",
    "        map_result = map_estimate(message)\n",
    "        \n",
    "        if z_index % 10 == 0:\n",
    "            ax = axs[i, z_index // 10]\n",
    "            ax.text(.5,.83, f'$k={message_length}$', horizontalalignment='center', transform=ax.transAxes)\n",
    "            ax.bar(domain_z, posterior, label='$P(Z=z \\,|\\, \\mathbf{X}=\\mathbf{x})$')\n",
    "            ax.plot([z] * 2, [-1, 2], '--', c='orange', label='true $z$')\n",
    "            ax.plot([map_result] * 2, [-1, 2], ':', c='purple', label='MAP')\n",
    "            ax.set_ylim(0, .17)\n",
    "\n",
    "            if i == 2:\n",
    "                ax.set_xlabel('$z$')\n",
    "            if z_index == 0:\n",
    "                ax.set_ylabel('probability')\n",
    "            \n",
    "axs[0,-1].legend(loc='upper left', bbox_to_anchor=(1, 1))\n",
    "plt.subplots_adjust(hspace=0.1, wspace=0)"
   ]
  },
  {
   "cell_type": "markdown",
   "id": "22951a6e",
   "metadata": {},
   "source": [
    "**Looking at the above plots, you should find that:**\n",
    "- The MAP estimate (dotted purple vertical line) sits indeed always at the maximum of the posterior distribution (blue bars).\n",
    "- The posterior distribution is very broad throughout the upper row, where we condition on messages of only length $k=10$. This is plausible since, the fewer symbols we have, the more uncertain we are about which parameter $z$ was used to generate the symbols.\n",
    "  By contrast, the posterior becomes sharper towards the lower rows, where $k$ grows, i.e., where we condition on more data.\n",
    "- Overall, the posterior distribution shifts to the right as the ground truth (dashed orange vertical line) moves to the right. In particular, in the last row ($k=1000$), the posterior alwayas has a clearly discernible peak, and the ground truth always lies within the peak)."
   ]
  },
  {
   "cell_type": "markdown",
   "id": "44e50e89",
   "metadata": {},
   "source": [
    "### Problem 5.4 (b): Bits-Back Coding\n",
    "\n",
    "Now implement the bits-back coding method.\n",
    "As discussed in the lecture, the **encoder** should do the following:\n",
    "1. construct an `AnsCoder` from the provided bit string `existing_compressed`;\n",
    "2. *decode* (no typo) some of those bits into $z$ using the posterior $P(Z\\, |\\, \\mathbf X=\\mathbf x)$;\n",
    "3. encode the message $\\mathbf x$, where the entropy model is the likelihood $P(\\mathbf X\\, |\\, Z=z)$ with $z$ being the value decoded in step 2;\n",
    "4. encode $z$ using the prior model $P(Z)$;\n",
    "5. return the (entire) compressed data that's now on the `AnsCoder`;\n",
    "\n",
    "And the **decoder** should invert the steps of the encoder, in reverse order (since the coder is a stack).\n",
    "\n",
    "#### Your tasks\n",
    "\n",
    "Fill in the blanks in the function bodies below and then run the unit test."
   ]
  },
  {
   "cell_type": "markdown",
   "id": "7ca8f8df",
   "metadata": {},
   "source": [
    "#### Proposed Solutions"
   ]
  },
  {
   "cell_type": "code",
   "execution_count": 18,
   "id": "2c62a536",
   "metadata": {},
   "outputs": [],
   "source": [
    "def encode_bitsback(message, existing_compressed):\n",
    "    coder = constriction.stream.stack.AnsCoder(existing_compressed)\n",
    "    if len(existing_compressed) != 0:\n",
    "        posterior = posterior_probailities(message)\n",
    "        z = coder.decode_iid_categorical_symbols(1, domain_z[0], posterior)[0]\n",
    "    else:\n",
    "        # Bits-back coding expects some side information. Since the function `test_compression_method`\n",
    "        # encodes several messages in sequence, all but the first message can use any previously encoded\n",
    "        # data as side information. However, for the first message we don't have any side information.\n",
    "        # therefore we'll do the next-best thing here and use the MAP result instead.\n",
    "        # Note that the decoder cannot possibly know that we didn't use any side information in this case,\n",
    "        # so it will decode some generate side information, which we can simply ignore.\n",
    "        z = map_estimate(message)\n",
    "\n",
    "    coder.encode_iid_categorical_symbols_reverse(message, 0, likelihood(domain_x, z))\n",
    "    coder.encode_iid_categorical_symbols_reverse(np.array([z], dtype=np.int32), domain_z[0], prior(domain_z))\n",
    "    return coder.get_compressed()\n",
    "\n",
    "def decode_bitsback(compressed, num_symbols):\n",
    "    coder = constriction.stream.stack.AnsCoder(compressed)\n",
    "    z = coder.decode_iid_categorical_symbols(1, domain_z[0], prior(domain_z))[0]\n",
    "    symbols = coder.decode_iid_categorical_symbols(num_symbols, 0, likelihood(domain_x, z))\n",
    "    posterior = posterior_probailities(symbols)\n",
    "    coder.encode_iid_categorical_symbols_reverse(np.array([z], dtype=np.int32), domain_z[0], posterior)\n",
    "    return symbols, coder.get_compressed()"
   ]
  },
  {
   "cell_type": "code",
   "execution_count": 19,
   "id": "311cbe4a",
   "metadata": {
    "scrolled": true
   },
   "outputs": [
    {
     "data": {
      "text/plain": [
       "65.88235294117646"
      ]
     },
     "execution_count": 19,
     "metadata": {},
     "output_type": "execute_result"
    }
   ],
   "source": [
    "# This should run without raising an exception and return an average bit rate of about 66.\n",
    "# You'll do a more thorough quantitative comparison between the different methods in Problem 5.5 below.\n",
    "test_compression_method(encode_bitsback, decode_bitsback)"
   ]
  },
  {
   "cell_type": "markdown",
   "id": "6b5e6db4",
   "metadata": {},
   "source": [
    "# Problem 5.5: Quantitative Evaluation and Comparison of the Three Methods\n",
    "\n",
    "**This is the most important problem on this problem set.**\n",
    "If you can solve this problem (i.e., answer all questions below with confidence) then you've understood how bits-back coding works.\n",
    "\n",
    "In Problems 5.2, 5.3, and 5.4, you've implemented three different methods for compressing data from the same data source.\n",
    "Let's now compare how well these three methods perform as a function of the message length $k$:"
   ]
  },
  {
   "cell_type": "code",
   "execution_count": 20,
   "id": "02784526",
   "metadata": {
    "scrolled": false
   },
   "outputs": [
    {
     "data": {
      "text/plain": [
       "<matplotlib.legend.Legend at 0x7ff317a67f70>"
      ]
     },
     "execution_count": 20,
     "metadata": {},
     "output_type": "execute_result"
    },
    {
     "data": {
      "image/png": "[encoded data removed]",
      "text/plain": [
       "<Figure size 432x360 with 1 Axes>"
      ]
     },
     "metadata": {
      "needs_background": "light"
     },
     "output_type": "display_data"
    }
   ],
   "source": [
    "test_lengths = [10, 30, 100, 300, 1000]\n",
    "bitrates_independently = [\n",
    "    test_compression_method(encode_independently, decode_independently, message_length) / message_length\n",
    "    for message_length in test_lengths]\n",
    "bitrates_map = [\n",
    "    test_compression_method(encode_map, decode_map, message_length) / message_length\n",
    "    for message_length in test_lengths]\n",
    "bitrates_bitsback = [\n",
    "    test_compression_method(encode_bitsback, decode_bitsback, message_length) / message_length\n",
    "    for message_length in test_lengths]\n",
    "\n",
    "fig, ax = plt.subplots(figsize=(6, 5))\n",
    "ax.set_xscale('log')\n",
    "ax.plot(test_lengths, bitrates_independently, 'o-', label='independently')\n",
    "ax.plot(test_lengths, bitrates_map, 's-', label='MAP')\n",
    "ax.plot(test_lengths, bitrates_bitsback, 'd-', label='bits-back')\n",
    "xlims = ax.get_xlim()\n",
    "ax.plot(xlims, [1, 1], '--', color='gray', label='uncompressed')\n",
    "ax.set_xlim(xlims)\n",
    "ax.set_ylim(0.6, 1.3)\n",
    "ax.set_xlabel('message length $k$ [log]')\n",
    "ax.set_ylabel('bits per symbol')\n",
    "ax.legend()"
   ]
  },
  {
   "cell_type": "markdown",
   "id": "038de73f",
   "metadata": {},
   "source": [
    "#### Your tasks\n",
    "\n",
    "You should be able to understand pretty much every aspect about the above plot.\n",
    "Explain the following observations:\n",
    "- Why do all methods become more effective (i.e., the bit rate per symbol drops) as the message length $k$ grows? (This is important to understand for the MAP and the bits-back method; for the \"independent\" method, it is just due to a small constant overhead of the coder, which becomes a bottleneck for very small $k$.)\n",
    "- How is it possible that \"compression\" with the MAP method (orange curve) actually *increases* the file size over the uncompressed representation (dotted gray line) for very low $k$? (Hint: think about the extreme case of $k=1$: what does the MAP method transmit in this case?)\n",
    "- Why does the compression performance of the MAP method (orange curve) approach the bits-back performance (green curve) in the limit $k\\to\\infty$?\n",
    "- In the limit $k\\to\\infty$, all curves seem to converge to two different constant values. What are these constants (express both of them as entropies of something under some probabilistic model)?\n",
    "  In particular, the fact that you were able to outperform the \"independent\" method—which would be the *optimal* compression method if the symbols were statistically independent (i.e., uncorrelated)—demonstrates that the symbols $X_i$ that our latent variable model produces really are correlated (I believe this was another source of confusion in the lecture).\n",
    "\n",
    "**Note:** if you decrease the message length even further then you will get very noisy results because you'll then average over very little data (also, the coder has a small constant overhead of about 32 bits, which will become a bottleneck for very small $k$). Already in the above plot, the fact that the \"bits-back\" curve and the \"independent\" curve seem to meet at $k=10$ does not have any fundamental reason."
   ]
  },
  {
   "cell_type": "markdown",
   "id": "2af9a9fb",
   "metadata": {},
   "source": [
    "#### Solutions\n",
    "\n",
    "- *Why do all methods become more effective (i.e., the bit rate per symbol drops) as the message length $k$ grows? (This is important to understand for the MAP and the bits-back method; for the \"independent\" method, it is just due to a small constant overhead of the coder, which becomes a bottleneck for very small $k$.)*\n",
    "  - The MAP-method becomes more effective (per symbol) with growing $k$ because it's overhead (transmitting a value for $Z$) is bounded by a constant in our setup ($\\log_2(51)$, see below), and thus the overhead *per $k$* is bounded by $\\log_2(51)/k$, which goes to zero as $k\\to\\infty$.\n",
    "  - The reason why the bits-back method becomes more effective (per symbol) with growing $k$ is even more fundamental. We derived in the lecture that the net bit rate of bits-back coding is indeed the information content of the message $\\mathbf x$. Thus, the fact that bits-back coding becomes more effective (per symbol) with growing $k$ must mean that the (expected) information content per symbol decreases with growing $k$. This is indeed the case because the symbols $X_i$ are correlated (see also last question). Another way to look at this is: as you observe longer sequences of symbols, you can infer the value of $Z$ with increasing certainty. Therefore, your knowledge about the generative process grows, which means that you can model any subsequent symbols even better.\n",
    "- *How is it possible that \"compression\" with the MAP method (orange curve) actually *increases* the file size over the uncompressed representation (dotted gray line) for very low $k$? (Hint: think about the extreme case of $k=1$: what does the MAP method transmit in this case?)*\n",
    "  - The MAP method includes an encoding of some value $z^*$ for $Z$ in the encoded bit string. This value is additional information that is not part of the message. For example, in the extreme case of $k=1$, the MAP method encodes both $z^*$ (using the prior model $P(Z)$) and $x_1$ (using the likelihood model $P(X_1|Z=z^*)$). This is obviously worse than what the \"independent\" method would do in this extreme case. In our setup, the information content of $z^*$ alone is already $\\log_2(51) \\approx 5.67~\\text{bits}$, exceeding even the length of an uncompressed representation of the message.\n",
    "- *Why does the compression performance of the MAP method (orange curve) approach the bits-back performance (green curve) in the limit $k\\to\\infty$?*\n",
    "  - One way to answer this is by reference to the first question above: the (absolute) overhead of the MAP is bounded by a constant (the entropy of $Z$), and thus the overhead *per $k$* is bounded by $H_P[Z]/k$, which goes to zero as $k\\to\\infty$.\n",
    "  - However, it turns out that even the *absolute* overhead of the MAP method goes to zero as $k\\to\\infty$. This is because inference on $Z$ becomes more and more certain as the message length grows. In the limit $k\\to\\infty$, the posterior $P(Z|\\mathbf X=\\mathbf x)$ converges almost surely to a degenerate probability distribution with $P(Z=z^*\\,|\\,\\mathbf X=\\mathbf x)=1$ and $P(Z=z\\,|\\,\\mathbf X=\\mathbf x)=0$ for $z\\neq z^*$. Thus, the overhead of the MAP method becomes\n",
    "\\begin{align}\n",
    "    R_\\text{MAP}(\\mathbf x) -(- \\log_2 P(\\mathbf X=\\mathbf x))\n",
    "    &= -\\log_2 P(Z=z^*) - \\log_2(\\mathbf X=\\mathbf x\\,|\\,Z=z^*) + \\log_2 P(\\mathbf X=\\mathbf x)\\\\\n",
    "    &= - \\log_2 P(Z=z^*\\,|\\,\\mathbf X=\\mathbf x) \\xrightarrow{k\\to\\infty} -\\log_2 (1) = 0.\n",
    "\\end{align}\n",
    "- *In the limit $k\\to\\infty$, all curves seem to converge to two different constant values. What are these constants (express both of them as entropies of something under some probabilistic model)?\n",
    "  In particular, the fact that you were able to outperform the \"independent\" method—which would be the *optimal* compression method if the symbols were statistically independent (i.e., uncorrelated)—demonstrates that the symbols $X_i$ that our latent variable model produces really are correlated (I believe this was another source of confusion in the lecture).*\n",
    "  - For the \"independent\" method, the total *expected* bit rate is the cross entropy between the data distribution $P$ and the model distribution $P'$, i.e.,\n",
    "\\begin{align}\n",
    "    \\mathbb E_P[R_\\text{independent}] &= H\\big(P(\\mathbf X),P'(\\mathbf X)\\big) = \\mathbb E_P \\left[-\\sum_{i=1}^k \\log_2 P'(X_i=x_i)\\right] \\\\\n",
    "    &= \\sum_{i=1}^k \\mathbb E_P \\left[-\\log_2 P'(X_i=x_i)\\right]\n",
    "    = \\sum_{i=1}^k H\\big(P(X_i), P'(X_i) \\big) \\\\\n",
    "    &= k\\, H\\big(P(X_i), P'(X_i) \\big).\n",
    "\\end{align}\n",
    "    Thus, we'd actually expect the expected bit rate per symbol to be constant across the entire spectrum of $k$ for the \"independent\" method. The only reason why the line for the \"independent\" method is not flat is because of some small constant overhead of the underlying `AnsCoder` for very small $k$.\n",
    "  - For the MAP method, the *total* bit rate is\n",
    "\\begin{align}\n",
    "    R_\\text{MAP}(\\mathbf x) &= -\\log_2 P(Z=z^*) - \\log_2 P(\\mathbf X=\\mathbf x\\,|\\, Z=z^*) \\\\\n",
    "    &= -\\log_2 P(Z=z^*) - \\sum_{i=1}^k \\log_2 P(X_i=x_i\\,|\\, Z=z^*).\n",
    "\\end{align}\n",
    "    In the limit $k\\to\\infty$, the MAP estimate $z^*$ is becomes the ground-truth value of $Z$ almost surely.\n",
    "    Thus, the *expected* total bit rate is\n",
    "\\begin{align}\n",
    "    \\mathbb E_P[R_\\text{MAP}(\\mathbf x)]\n",
    "    &= H_P[Z] + \\sum_{i=1}^k H_P[X_i|Z] \\qquad\\text{(for $k\\to\\infty$)}\\\\\n",
    "    &= H_P[Z] + k\\, H_P[X_1|Z]\n",
    "\\end{align}\n",
    "    where the notation $H_P[X_i|Z]$ was introduced in Problem 4.2 (b) on Problem Set 4.\n",
    "    Thus, the expected bit rate per symbol is $H_P[Z]/k + H_P[X_1|Z]$, which converges to $H_P[X_1|Z]$ for $k\\to\\infty$.\n",
    "  - For the bits-back method, we've derived in the lecture that the (net) bit rate is indeed the information content of the message $\\mathbf x$, i.e., that the method is optimal. Since, as we've argued above, the MAP method also becomes optimal in the limit $k\\to\\infty$, the two approach the same limit.\n",
    "\n",
    "**Note:** if you decrease the message length even further then you will get very noisy results because you'll then average over very little data (also, the coder has a small constant overhead of about 32 bits, which will become a bottleneck for very small $k$). Already in the above plot, the fact that the \"bits-back\" curve and the \"independent\" curve seem to meet at $k=10$ does not have any fundamental reason."
   ]
  }
 ],
 "metadata": {
  "kernelspec": {
   "display_name": "Python 3",
   "language": "python",
   "name": "python3"
  },
  "language_info": {
   "codemirror_mode": {
    "name": "ipython",
    "version": 3
   },
   "file_extension": ".py",
   "mimetype": "text/x-python",
   "name": "python",
   "nbconvert_exporter": "python",
   "pygments_lexer": "ipython3",
   "version": "3.8.2"
  }
 },
 "nbformat": 4,
 "nbformat_minor": 5
}
