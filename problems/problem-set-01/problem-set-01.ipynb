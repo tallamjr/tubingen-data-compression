{
 "cells": [
  {
   "cell_type": "markdown",
   "id": "d18e690a",
   "metadata": {},
   "source": [
    "# Problem Set 1 — Coding Part\n",
    "\n",
    "**Lecture:** Data Compression With Deep probabilistic models (Prof. Bamler at University of Tuebingen)\n",
    "\n",
    "- This notebook constitutes the coding part of Problem Set 1, published on 20 April 2021 and discussed on 26 April 2021.\n",
    "- Download the full problem set from the [course website](https://robamler.github.io/teaching/compress21/)."
   ]
  },
  {
   "cell_type": "markdown",
   "id": "5a5bce64",
   "metadata": {},
   "source": [
    "## Problem 1.2: Naive Symbol Code Implementation\n",
    "\n",
    "In this exercise, we'll implement a very naive but correct encoder and decoder for prefix-free symbol codes.\n",
    "We only care about correctness for now, not about computational efficiency.\n",
    "\n",
    "We represent bit strings (code words and the concatenated encoded message) as lists of boolean values, where `True` represents a \"one\"-bit and `False` represents a \"zero\" bit.\n",
    "Please be aware that this would be an extremely inefficient representation for a real application.\n",
    "We represent code books as dictionaries from symbols to bit strings (i.e., to lists of boolean values)."
   ]
  },
  {
   "cell_type": "markdown",
   "id": "a214e5dc",
   "metadata": {},
   "source": [
    "### Sample Code Books\n",
    "\n",
    "Our decoding algorithm will only work with prefix codes.\n",
    "Let's define some sample prefix codes for our unit tests."
   ]
  },
  {
   "cell_type": "code",
   "execution_count": null,
   "id": "79c81d7f",
   "metadata": {},
   "outputs": [],
   "source": [
    "# our example C^{(4)} from Problem 1.1\n",
    "SAMPLE_CODEBOOK_MONOPOLY_C4 = {\n",
    "    2: [False, True, False],\n",
    "    3: [True, False],\n",
    "    4: [False, False],\n",
    "    5: [True, True],\n",
    "    6: [False, True, True]\n",
    "}\n",
    "\n",
    "# additional example (exercise: verify that this is a prefix code)\n",
    "SAMPLE_CODEBOOK2 = {\n",
    "    'a': [True, False],\n",
    "    'b': [False],\n",
    "    'c': [True, True, False, False],\n",
    "    'd': [True, True, False, True],\n",
    "    'e': [True, True, True],\n",
    "}"
   ]
  },
  {
   "cell_type": "markdown",
   "id": "8d4a24fc",
   "metadata": {},
   "source": [
    "### Encoder\n",
    "\n",
    "The encoder is very simple.\n",
    "Fill in the blank where it says \"TODO\" (a single line of code will do)."
   ]
  },
  {
   "cell_type": "code",
   "execution_count": null,
   "id": "df6d30b6",
   "metadata": {},
   "outputs": [],
   "source": [
    "def encode(message, codebook):\n",
    "    \"\"\"Encodes a sequence of symbols using a prefix-free symbol code.\n",
    "\n",
    "    This is a very inefficient implementation for teaching purposes only.\n",
    "\n",
    "    Args:\n",
    "        message (list): The message you want to encode, as a list of symbols.\n",
    "        codebook (dict): A codebook for a prefix-free symbol code. Must be a\n",
    "            dictionary whose keys contain all symbols that appear in `message`\n",
    "            (and may contain additional keys). Each key must map to a list of\n",
    "            booleans, representing the code word as a sequence of bits. Must\n",
    "            specify a prefix-free code, i.e., no code word may be the prefix\n",
    "            of the code word for a different symbol.\n",
    "\n",
    "    Returns:\n",
    "        list: The encoded bit string as a list of bools.\n",
    "    \"\"\"\n",
    "    \n",
    "    encoded = []\n",
    "    \n",
    "    for symbol in message:\n",
    "        # TODO: look up code word for `symbol` in the `codebook` and append\n",
    "        # it to `encoded`\n",
    "    \n",
    "    return encoded"
   ]
  },
  {
   "cell_type": "markdown",
   "id": "6c6916fb",
   "metadata": {},
   "source": [
    "Now run these unit tests to verify your implementation:"
   ]
  },
  {
   "cell_type": "code",
   "execution_count": null,
   "id": "a6765d7f",
   "metadata": {},
   "outputs": [],
   "source": [
    "assert encode([], SAMPLE_CODEBOOK_MONOPOLY_C4) == []\n",
    "assert encode([], SAMPLE_CODEBOOK2) == []\n",
    "assert (\n",
    "    encode([4, 3, 6, 4, 2], SAMPLE_CODEBOOK_MONOPOLY_C4)\n",
    "    == [False, False, True, False, False, True, True, False, False, False, True, False]\n",
    ")\n",
    "assert (\n",
    "    encode(['c', 'b', 'a', 'd', 'b', 'b', 'd', 'e'], SAMPLE_CODEBOOK2)\n",
    "    == [True, True, False, False, False, True, False, True, True, False, \n",
    "        True, False, False, True, True, False, True, True, True, True]\n",
    ")"
   ]
  },
  {
   "cell_type": "markdown",
   "id": "966cbee9",
   "metadata": {},
   "source": [
    "### Decoder\n",
    "\n",
    "The decoder is more complicated because it has to infer the boundaries between concatenated code words.\n",
    "To do this, we will use the assumption that the code book defines a *prefix-free* symbol code.\n",
    "\n",
    "We use a kind of brute-force implementation here.\n",
    "It is correct but very inefficient.\n",
    "We'll implement a more efficient method on the next problem set.\n",
    "\n",
    "Fill in the blanks where it says \"TODO\"."
   ]
  },
  {
   "cell_type": "code",
   "execution_count": null,
   "id": "bae25c9f",
   "metadata": {},
   "outputs": [],
   "source": [
    "def decode(encoded, codebook):\n",
    "    \"\"\"Decodes a bitstring into a sequence of symbols using a prefix-free symbol code.\n",
    "\n",
    "    This is a very inefficient implementation for teaching purposes only.\n",
    "\n",
    "    Args:\n",
    "        encoded (list): The compressed bit string as a list of bools.\n",
    "        codebook (dict): A codebook for a prefix-free symbol code.\n",
    "\n",
    "    Returns:\n",
    "        list: The decoded message as a list of symbols.\n",
    "    \"\"\"\n",
    "    \n",
    "    def is_prefix_of(prefix_candidate, codeword):\n",
    "        # TODO: Both `prefix_candidate` and `codeword` are lists of bools. Return\n",
    "        # `True` if `codeword` is at least as long as `prefix_candidate` and if\n",
    "        # `codeword` starts with `prefix_candidate`. Otherwise, return `False`.\n",
    "    \n",
    "    decoded = []\n",
    "    partial_codeword = []\n",
    "    candidate_symbols = list(codebook.keys())\n",
    "    \n",
    "    for bit in encoded:\n",
    "        # Start reading in a new code word:\n",
    "        # - Set `partial_codeword` to the empty list. We will accumulate the bits\n",
    "        #   of the code word in this list.\n",
    "        # - Set `candidate_symbols` to all symbols in the code book. We'll narrow\n",
    "        #   down this list as we read more bits until it contains only a single\n",
    "        #   symbol whose codeword equals `partial_codeword`.\n",
    "        \n",
    "        # append the current bit to `partial_codeword`:\n",
    "        partial_codeword.append(bit)\n",
    "\n",
    "        # TODO: apply a filter to `candidate_symbols`: only retain the ones\n",
    "        # whose code words start with `partial_codeword`.\n",
    "\n",
    "        if len(candidate_symbols) == 0:\n",
    "            raise 'Encountered invalid code word.'\n",
    "        elif len(candidate_symbols) == 1 and partial_codeword == codebook[candidate_symbols[0]]:\n",
    "            # TODO:\n",
    "            # - Append the decoded symbol to `decoded`.\n",
    "            # - Then reset `partial_codeword` and `candidate_symbols` to their initial values\n",
    "            #   so that we can start decoding the next code word.\n",
    "\n",
    "    assert partial_codeword == [], 'The compressed message ended in the middle of a code word.'\n",
    "    return decoded"
   ]
  },
  {
   "cell_type": "markdown",
   "id": "3ce3f0ad",
   "metadata": {},
   "source": [
    "Now run these unit tests to verify your implementation:"
   ]
  },
  {
   "cell_type": "code",
   "execution_count": null,
   "id": "50f8604c",
   "metadata": {},
   "outputs": [],
   "source": [
    "assert decode([], SAMPLE_CODEBOOK_MONOPOLY_C4) == []\n",
    "assert decode([], SAMPLE_CODEBOOK2) == []\n",
    "assert decode(\n",
    "    [False, False, True, False, False, True, True, False, False, False, True, False],\n",
    "    SAMPLE_CODEBOOK_MONOPOLY_C4) == [4, 3, 6, 4, 2]\n",
    "assert decode(\n",
    "    [True, True, False, False, False, True, False, True, True, False, \n",
    "     True, False, False, True, True, False, True, True, True, True],\n",
    "    SAMPLE_CODEBOOK2) == ['c', 'b', 'a', 'd', 'b', 'b', 'd', 'e']"
   ]
  },
  {
   "cell_type": "markdown",
   "id": "e6ddf35c",
   "metadata": {},
   "source": [
    "### Round-Trip Tests\n",
    "\n",
    "These entropy coding algorithms can contain very subtle errors that wouldn't show up in the minimal unit tests we've tested so far.\n",
    "It is generally a good idea to implement more elaborate tests.\n",
    "This is easy to do, now that you have both an encoder and a decoder: generate some long-ish sequence of random symbols.\n",
    "Then encode and decode them and verify that the decoder reconstructs the original message.\n",
    "Always remember the random numer seed so that, if you find an error, you can start debugging."
   ]
  },
  {
   "cell_type": "markdown",
   "id": "19083555",
   "metadata": {},
   "source": [
    "## Problem 1.3: Binary Heap\n",
    "\n",
    "This exercise is a preparation for the next problem set, where we will implement the Huffman coding algorithm for constructing optimal symbol codes.\n",
    "Our implementation will use a *binary heap* (also known as a *priority heap*, a *min-heap*, or a *max-heap*).\n",
    "\n",
    "- (Re-)familiarize yourself with the concept of a binary heap (e.g., skim the [Wikipedia article](https://en.wikipedia.org/wiki/Binary_heap).\n",
    "  It's not so important for now how the heap is implemented, just make sure you understand what the `insert` and `pop` (or `extract`) operations do.\n",
    "- The following code plays around with the binary heap implementation in the python standard library.\n",
    "  Run it, read it, and make sure you understand what it does (this code has no particular purpose apart from verifying that we understand how the API works)."
   ]
  },
  {
   "cell_type": "code",
   "execution_count": null,
   "id": "3a40f5d6",
   "metadata": {},
   "outputs": [],
   "source": [
    "import numpy as np\n",
    "import heapq"
   ]
  },
  {
   "cell_type": "code",
   "execution_count": null,
   "id": "d85a3dcc",
   "metadata": {},
   "outputs": [],
   "source": [
    "np.random.seed(123)\n",
    "test_data = np.random.choice(10, size=20)\n",
    "test_data"
   ]
  },
  {
   "cell_type": "code",
   "execution_count": null,
   "id": "09b908bb",
   "metadata": {},
   "outputs": [],
   "source": [
    "heap = []\n",
    "for item in test_data:\n",
    "    heapq.heappush(heap, item)\n",
    "heap"
   ]
  },
  {
   "cell_type": "code",
   "execution_count": null,
   "id": "2252981c",
   "metadata": {},
   "outputs": [],
   "source": [
    "sorted_test_data = []\n",
    "while heap != []:\n",
    "    sorted_test_data.append(heapq.heappop(heap))\n",
    "sorted_test_data # Should print the items from `test_data` in sorted order."
   ]
  },
  {
   "cell_type": "code",
   "execution_count": null,
   "id": "dc572fee",
   "metadata": {},
   "outputs": [],
   "source": [
    "assert set(test_data) == set(sorted_test_data)\n",
    "assert sorted(sorted_test_data) == sorted_test_data"
   ]
  }
 ],
 "metadata": {
  "kernelspec": {
   "display_name": "Python 3",
   "language": "python",
   "name": "python3"
  },
  "language_info": {
   "codemirror_mode": {
    "name": "ipython",
    "version": 3
   },
   "file_extension": ".py",
   "mimetype": "text/x-python",
   "name": "python",
   "nbconvert_exporter": "python",
   "pygments_lexer": "ipython3",
   "version": "3.8.2"
  }
 },
 "nbformat": 4,
 "nbformat_minor": 5
}
