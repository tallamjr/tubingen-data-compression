{
 "cells": [
  {
   "cell_type": "markdown",
   "id": "d18e690a",
   "metadata": {},
   "source": [
    "# Problem Set 2 — Coding Part\n",
    "\n",
    "**Lecture:** Data Compression With Deep probabilistic models (Prof. Bamler at University of Tuebingen)\n",
    "\n",
    "- This notebook constitutes the coding part of Problem Set 2, published on 27 April 2021 and discussed on 3 May 2021.\n",
    "- Download the full problem set (and solutions, once available) from the [course website](https://robamler.github.io/teaching/compress21/)."
   ]
  },
  {
   "cell_type": "markdown",
   "id": "5a5bce64",
   "metadata": {},
   "source": [
    "## Problem 2.4 (d): Huffman Coding\n",
    "\n",
    "In this exercise, we'll implement the Huffman Coding algorithm (Algorithm 2 on the problem set).\n",
    "\n",
    "We represent bit strings (code words) as lists of boolean values, where `True` represents a \"one\"-bit and `False` represents a \"zero\" bit.\n",
    "Please be aware that this would be an extremely inefficient representation for a real application, but the simplicity of this representation will make it easier to understand the algorithm."
   ]
  },
  {
   "cell_type": "markdown",
   "id": "49170a55",
   "metadata": {},
   "source": [
    "### Proposed Representation of the Huffman Tree\n",
    "\n",
    "The following is a proposal for how you could represent the Huffman tree.\n",
    "Feel free to use your own representation if you have a better idea.\n",
    "This proposal is optimized for *encoding* because it stores only pointers from nodes to their parents.\n",
    "If you want to use the Huffman tree for efficient *decoding* then you should also store the inverse pointers from nodes to their children.\n",
    "\n",
    "A Huffman tree represents a code book as a binary tree with the symbols $x \\in \\mathfrak X = \\{0,1,\\ldots, |\\mathfrak X|-1\\}$ at its leaves.\n",
    "Any binary tree with $|\\mathfrak X|$ leaves has a total of $(2|\\mathfrak X| - 1)$ nodes (including the leaves), regardless of the specific shape of the tree.\n",
    "We represent the tree as a list (named `parent_nodes`) of length $(2|\\mathfrak X| - 1)$ with the following properties:\n",
    "- the first $|\\mathfrak X|$ entries of the list `parent_nodes` correspond to the leaf nodes, i.e., the symbols $x\\in\\{0,1,\\ldots,|\\mathfrak X|-1\\}$;\n",
    "- the remaining $(|\\mathfrak X|-1)$ entries of the list `parent_nodes` correspond to non-leaf nodes, with the root node at the very end;\n",
    "- each entry of the list `parent_nodes` is a tuple `(index, label)` where `index` is an index into `parent_nodes` pointing at the parent of the current node, and `label` is the label of the edge between the node and its parent (which is either `True` or `False`);\n",
    "- since the root node has no parent, `parent_nodes[len(parent_nodes) - 1]` will always be `None`.\n",
    "\n",
    "### Your Tasks\n",
    "\n",
    "- Read and understand the code in the method `encode_symbol`.\n",
    "  Then complete the constructor (`__init__`) so that it creates the tree structure that `encode_symbol` expects.\n",
    "- Run the minimal provided unit test to make sure you didn't do any obvious mistake.\n",
    "- Implement and run additional unit tests. In particular, test edge case like ties or a degenerate probability distribution (that puts all mass on a single symbol."
   ]
  },
  {
   "cell_type": "code",
   "execution_count": null,
   "id": "ca8316d7",
   "metadata": {},
   "outputs": [],
   "source": [
    "import numpy as np\n",
    "import heapq # See Problem 1.3 from last week's problem set and its code example."
   ]
  },
  {
   "cell_type": "code",
   "execution_count": null,
   "id": "930f23cc",
   "metadata": {},
   "outputs": [],
   "source": [
    "class Huffman:\n",
    "    \"\"\"A code book for Huffman coding\"\"\"\n",
    "    \n",
    "    def __init__(self, probabilities):\n",
    "        \"\"\"Create an optimal prefix code using the Huffman algorithm.\n",
    "        \n",
    "        The alphabet is assumed to be of the form\n",
    "        {0, 1, 2, ..., probabilities.len() - 1}.\n",
    "\n",
    "        Args:\n",
    "            probabilities (list or numpy array): The probabilities of each symbol\n",
    "                in the alphabet. The first entry is the probability of symbol `0`,\n",
    "                the second entry is the probability of symbol `1`, and so on.\n",
    "                Must be nonnegative and sum to 1 (up to rounding errors) for the\n",
    "                Huffman algorithm to be correct.\n",
    "        \"\"\"\n",
    "        \n",
    "        parent_nodes = [None] * len(probabilities)\n",
    "        \n",
    "        roots = []\n",
    "        # TODO: turn `roots` into a binary heap of pairs `(probability, symbol)`,\n",
    "        # representing the set `R` from Algorithm 2 on the problem set.\n",
    "        # (You may want to refer back to the code examples for Problem 1.3 from\n",
    "        # last week's problem set.)\n",
    "        \n",
    "        while len(roots) > 1:\n",
    "            # TODO: implement the rest of the algorithm, as described on the problem set:\n",
    "            # - update the `roots` heap by popping of two items and pushing back one;\n",
    "            # - you may find it easiest to initially append `None` elements to\n",
    "            #   `parent_nodes` and to mutate them once their parent is inserted;\n",
    "            # - feel free to use a different approach if you find it easier to do so.\n",
    "\n",
    "        self.parent_nodes = parent_nodes\n",
    "        \n",
    "    def __getitem__(self, symbol):\n",
    "        \"\"\"Encode a single symbol.\n",
    "\n",
    "        Args:\n",
    "            symbol (int): A symbol from the alphabet {0, 1, ..., len-1}.\n",
    "                \n",
    "        Returns:\n",
    "            The code word for `symbol`.\n",
    "        \"\"\"\n",
    "        assert 0 <= symbol and symbol < len(self)\n",
    "        \n",
    "        codeword_reverse = []\n",
    "        index = symbol\n",
    "        while True:\n",
    "            parent = self.parent_nodes[index]\n",
    "            if parent is None:\n",
    "                # Found root node.\n",
    "                break\n",
    "            else:\n",
    "                index, bit = parent\n",
    "                codeword_reverse.append(bit)\n",
    "        \n",
    "        return list(reversed(codeword_reverse))\n",
    "    \n",
    "    def __len__(self):\n",
    "        \"\"\"Returns the size of the alphabet.\"\"\"\n",
    "        # A binary tree with `N` leaves has `M = 2*N - 1` nodes, regardless of\n",
    "        # its shape. Therefore, `N = (M + 1) / 2`.\n",
    "        return (len(self.parent_nodes) + 1) // 2"
   ]
  },
  {
   "cell_type": "markdown",
   "id": "19c62973",
   "metadata": {},
   "source": [
    "### Unit Tests"
   ]
  },
  {
   "cell_type": "code",
   "execution_count": null,
   "id": "26cda2b5",
   "metadata": {},
   "outputs": [],
   "source": [
    "def minimal_test():\n",
    "    probabilities = [.3, .28, .12, .1, .2]\n",
    "    expected_codebook = {\n",
    "        0: [True, True],\n",
    "        1: [True, False],\n",
    "        2: [False, True, True],\n",
    "        3: [False, True, False],\n",
    "        4: [False, False],\n",
    "    }\n",
    "    codebook = Huffman(probabilities)\n",
    "    for symbol, expected_codeword in expected_codebook.items():\n",
    "        assert codebook[symbol] == expected_codeword\n",
    "\n",
    "minimal_test()"
   ]
  },
  {
   "cell_type": "code",
   "execution_count": null,
   "id": "85597e5f",
   "metadata": {},
   "outputs": [],
   "source": [
    "# TODO: implement more tests, in particular for edge cases"
   ]
  }
 ],
 "metadata": {
  "kernelspec": {
   "display_name": "Python 3",
   "language": "python",
   "name": "python3"
  },
  "language_info": {
   "codemirror_mode": {
    "name": "ipython",
    "version": 3
   },
   "file_extension": ".py",
   "mimetype": "text/x-python",
   "name": "python",
   "nbconvert_exporter": "python",
   "pygments_lexer": "ipython3",
   "version": "3.8.2"
  }
 },
 "nbformat": 4,
 "nbformat_minor": 5
}
